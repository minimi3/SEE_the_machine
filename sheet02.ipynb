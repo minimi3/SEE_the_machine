{
 "cells": [
  {
   "cell_type": "markdown",
   "metadata": {
    "deletable": false,
    "editable": false,
    "nbgrader": {
     "checksum": "3525e6b5bf9b2f08dd31f0ef4ec6114c",
     "grade": false,
     "grade_id": "header",
     "locked": true,
     "schema_version": 1,
     "solution": false
    }
   },
   "source": [
    "Osnabrück University - Machine Learning (Summer Term 2019) - Prof. Dr.-Ing. G. Heidemann, Ulf Krumnack, Axel Schaffland"
   ]
  },
  {
   "cell_type": "markdown",
   "metadata": {
    "deletable": false,
    "editable": false,
    "nbgrader": {
     "checksum": "60fb6a7056eccb2d4420f6526d4865a9",
     "grade": false,
     "grade_id": "title",
     "locked": true,
     "schema_version": 1,
     "solution": false
    }
   },
   "source": [
    "# Exercise Sheet 02: Decision Trees"
   ]
  },
  {
   "cell_type": "markdown",
   "metadata": {
    "deletable": false,
    "editable": false,
    "nbgrader": {
     "checksum": "3cd2ea70da2343f005ed0a0cea570226",
     "grade": false,
     "grade_id": "introduction",
     "locked": true,
     "schema_version": 1,
     "solution": false
    }
   },
   "source": [
    "## Introduction\n",
    "By now everyone should have found a group. If someone still has none but wants to participate in the course please contact one of the tutors.\n",
    "\n",
    "This week's sheet should be solved and handed in before the end of **Monday, April 22, 2019**. If you need help (and Google and other resources were not enough), feel free to contact your groups designated tutor or whom ever of us you run into first. Please upload your results to your group's studip folder."
   ]
  },
  {
   "cell_type": "markdown",
   "metadata": {
    "deletable": false,
    "editable": false,
    "nbgrader": {
     "checksum": "86e66a15936528bc082fd066e96936aa",
     "grade": false,
     "grade_id": "math-euclid",
     "locked": true,
     "schema_version": 1,
     "solution": false
    }
   },
   "source": [
    "## Assignment 0: Math recap (Euclidean Space) [0 Points]\n",
    "\n",
    "This exercise is supposed to be very easy and is voluntary. There will be a similar exercise on every sheet.\n",
    "It is intended to revise some basic mathematical notions that are assumed throughout this class and to allow you to check if you are comfortable with them.\n",
    "Usually you should have no problem to answer these questions offhand, but if you feel unsure, this is a good time to look them up again. You are always welcome to discuss questions with the tutors or in the practice session.\n",
    "Also, if you have a (math) topic you would like to recap, please let us know."
   ]
  },
  {
   "cell_type": "markdown",
   "metadata": {
    "deletable": false,
    "editable": false,
    "nbgrader": {
     "checksum": "899ac70855dbd336b6edef96c4c1a6f5",
     "grade": false,
     "grade_id": "math-euclid-q1",
     "locked": true,
     "schema_version": 1,
     "solution": false
    }
   },
   "source": [
    "**a)** What is a *Euclidean space*? What is the *Cartesian plane*? How are they usually denoted? How to write points in these spaces?"
   ]
  },
  {
   "cell_type": "markdown",
   "metadata": {
    "collapsed": true,
    "deletable": false,
    "nbgrader": {
     "checksum": "10da800d32483f0d4bfa9cf43624b3c0",
     "grade": true,
     "grade_id": "math-euclid-a1",
     "locked": false,
     "points": 0,
     "schema_version": 1,
     "solution": true
    },
    "solution": true
   },
   "source": [
    "2D coordinate system, an axis for each dimension, (x1, x2, x3,...,xn)"
   ]
  },
  {
   "cell_type": "markdown",
   "metadata": {
    "deletable": false,
    "editable": false,
    "nbgrader": {
     "checksum": "0bf071a4c6d1ff977bcd336eb96d7daa",
     "grade": false,
     "grade_id": "math-euclid-q2",
     "locked": true,
     "schema_version": 1,
     "solution": false
    }
   },
   "source": [
    "**b)** What is the *norm* of a vector in a Euclidean space? How to *add* and *substract* two vectors? How is the *Euclidean distance* defined? Are there other ways to measure distances?"
   ]
  },
  {
   "cell_type": "markdown",
   "metadata": {
    "collapsed": true,
    "deletable": false,
    "nbgrader": {
     "checksum": "4f95335b2228d0766f6bdbbba83f857d",
     "grade": true,
     "grade_id": "math-euclid-a2",
     "locked": false,
     "points": 0,
     "schema_version": 1,
     "solution": true
    },
    "solution": true
   },
   "source": [
    "the length of the vector. |x| = root(x1^2 +...+ xn^2)"
   ]
  },
  {
   "cell_type": "markdown",
   "metadata": {
    "deletable": false,
    "editable": false,
    "nbgrader": {
     "checksum": "c7a7304a941a4864f1c0ad2cce2d86b3",
     "grade": false,
     "grade_id": "math-euclid-q3",
     "locked": true,
     "schema_version": 1,
     "solution": false
    }
   },
   "source": [
    "**c)** What is the (standard) *scalar product* of two vectors? How is it related to the length and angle between these vectors? Name some use cases."
   ]
  },
  {
   "cell_type": "markdown",
   "metadata": {
    "collapsed": true,
    "deletable": false,
    "nbgrader": {
     "checksum": "e5c2f82430f4ba30219c7b0e9a43836d",
     "grade": true,
     "grade_id": "math-euclid-a3",
     "locked": false,
     "points": 0,
     "schema_version": 1,
     "solution": true
    },
    "solution": true
   },
   "source": [
    "YOUR ANSWER HERE"
   ]
  },
  {
   "cell_type": "markdown",
   "metadata": {
    "deletable": false,
    "editable": false,
    "nbgrader": {
     "checksum": "5ee215c34f3379ff1592c40f961f648b",
     "grade": false,
     "grade_id": "1",
     "locked": true,
     "schema_version": 1,
     "solution": false
    }
   },
   "source": [
    "## Assignment 1: Decision Trees [4 Points]\n",
    "Draw the decision trees for the following boolean functions. Either use pen and paper and bring the results to the feedback session or employ your ASCII artist within below. \n",
    "\n",
    "Note: $\\oplus := xor$, that means one of the operands has to be true, while the other one has to be false:\n",
    "\n",
    "$\\oplus$ | $B$ | $\\neg B$\n",
    "---------|-----|---------\n",
    "$A$      |  f  |    t\n",
    "$\\neg A$ |  t  |    f"
   ]
  },
  {
   "cell_type": "markdown",
   "metadata": {
    "deletable": false,
    "editable": false,
    "nbgrader": {
     "checksum": "5d1262e86ced8253c5494967ba44713e",
     "grade": false,
     "grade_id": "1a",
     "locked": true,
     "schema_version": 1,
     "solution": false
    }
   },
   "source": [
    "### a) $\\neg A \\wedge B$\n"
   ]
  },
  {
   "cell_type": "markdown",
   "metadata": {
    "deletable": false,
    "nbgrader": {
     "checksum": "ef303856f7d9ea16a5c3318314c4935d",
     "grade": true,
     "grade_id": "1a-answer",
     "locked": false,
     "points": 0.5,
     "schema_version": 1,
     "solution": true
    },
    "solution": true
   },
   "source": [
    "                   A\n",
    "             true / \\ false\n",
    "                 /   \\\n",
    "             FALSE    B\n",
    "                     / \\ \n",
    "               true /   \\ false\n",
    "                  TRUE  FALSE"
   ]
  },
  {
   "cell_type": "markdown",
   "metadata": {
    "deletable": false,
    "editable": false,
    "nbgrader": {
     "checksum": "f500739a15568445866c4b555d7a6e36",
     "grade": false,
     "grade_id": "1b",
     "locked": true,
     "schema_version": 1,
     "solution": false
    }
   },
   "source": [
    "### b) $A \\oplus B$ "
   ]
  },
  {
   "cell_type": "markdown",
   "metadata": {
    "deletable": false,
    "nbgrader": {
     "checksum": "081b38d16bbf73acc91330546dd4a73e",
     "grade": true,
     "grade_id": "1b_answer",
     "locked": false,
     "points": 0.5,
     "schema_version": 1,
     "solution": true
    },
    "solution": true
   },
   "source": [
    "                   A\n",
    "             true / \\ false\n",
    "                 /   \\\n",
    "                /     \\\n",
    "               B       \\ \n",
    "              / \\       \\\n",
    "           t /   \\ f     \\\n",
    "         FALSE  TRUE      B\n",
    "                         / \\ \n",
    "                   true /   \\ false\n",
    "                      TRUE  FALSE "
   ]
  },
  {
   "cell_type": "markdown",
   "metadata": {
    "deletable": false,
    "editable": false,
    "nbgrader": {
     "checksum": "c2e623bde4f83e6d64bc12abbdc8cbfc",
     "grade": false,
     "grade_id": "1c",
     "locked": true,
     "schema_version": 1,
     "solution": false
    }
   },
   "source": [
    "### c) $A \\vee (B \\wedge C) \\vee (\\neg C \\wedge D)$"
   ]
  },
  {
   "cell_type": "markdown",
   "metadata": {
    "deletable": false,
    "nbgrader": {
     "checksum": "6020c5fc6fd3bb72a8bc49b84b98631c",
     "grade": true,
     "grade_id": "1c-answer",
     "locked": false,
     "points": 0.5,
     "schema_version": 1,
     "solution": true
    },
    "solution": true
   },
   "source": [
    "                   A\n",
    "             true / \\ false\n",
    "                 /   \\\n",
    "                /     \\\n",
    "              TRUE     C \n",
    "                      / \\ \n",
    "                true /   \\ false\n",
    "                    /     \\\n",
    "                   B       D\n",
    "                  / \\   t / \\ \n",
    "            true /   \\ TRUE  \\false\n",
    "                /     \\       \\\n",
    "             TRUE    FALSE    FALSE"
   ]
  },
  {
   "cell_type": "markdown",
   "metadata": {
    "deletable": false,
    "editable": false,
    "nbgrader": {
     "checksum": "74cd6378a22605b0e3e960e3ceb0d3ef",
     "grade": false,
     "grade_id": "1d",
     "locked": true,
     "schema_version": 1,
     "solution": false
    }
   },
   "source": [
    "### d) $(A \\rightarrow (B \\wedge \\neg C)) \\vee (A \\wedge B)$"
   ]
  },
  {
   "cell_type": "markdown",
   "metadata": {
    "deletable": false,
    "nbgrader": {
     "checksum": "8f6750a1be96ef062c24f59f1586dce8",
     "grade": true,
     "grade_id": "1d-answer",
     "locked": false,
     "points": 0.5,
     "schema_version": 1,
     "solution": true
    },
    "solution": true
   },
   "source": [
    "                      A\n",
    "                     / \\ \n",
    "              false /   \\ true\n",
    "                  TRUE   B\n",
    "                        / \\ \n",
    "                 false /   \\ true\n",
    "                    FALSE  TRUE "
   ]
  },
  {
   "cell_type": "markdown",
   "metadata": {
    "deletable": false,
    "editable": false,
    "nbgrader": {
     "checksum": "b60d7db6c515794ed215753fa117334f",
     "grade": false,
     "grade_id": "2",
     "locked": true,
     "schema_version": 1,
     "solution": false
    }
   },
   "source": [
    "## Assignment 2: Entropy and Information Gain [8 Points]\n",
    "\n",
    "In many machine learning applications it is crucial to determine which criterions are necessary for a good classification. Decision trees have those criterions close to the root, imposing an order from significant to less significant criterions. One way to select the most important criterion is to compare its information gain or its entropy to others. The following dataset is a hands-on example for this method. \n",
    "\n",
    "Consider the following attributes with their possible values:\n",
    "\n",
    "  * $raining = \\{yes, no\\}$\n",
    "  * $tired = \\{yes, no\\}$\n",
    "  * $late = \\{yes, no\\}$\n",
    "  * $distance = \\{short, medium, long\\}$\n",
    "\n",
    "And a training data set consisting of those attributes:\n",
    "\n",
    "| #  | raining | tired | late | distance | attend_party |\n",
    "|----|---------|-------|------|----------|--------------|\n",
    "| 1  | yes     | no    | no   | short    | **yes**      |\n",
    "| 2  | yes     | no    | yes  | medium   | **no**       |\n",
    "| 3  | no      | yes   | no   | long     | **no**       |\n",
    "| 4  | yes     | yes   | yes  | short    | **no**       |\n",
    "| 5  | yes     | no    | no   | short    | **yes**      |\n",
    "| 6  | no      | no    | no   | medium   | **yes**      |\n",
    "| 7  | no      | yes   | no   | long     | **no**       |\n",
    "| 8  | yes     | no    | yes  | short    | **no**       |\n",
    "| 9  | yes     | yes   | no   | short    | **yes**      |\n",
    "| 10 | no      | yes   | no   | medium   | **no**       |\n",
    "| 11 | no      | yes   | no   | long     | **no**       |\n",
    "| 12 | no      | yes   | yes  | short    | **no**       |"
   ]
  },
  {
   "cell_type": "markdown",
   "metadata": {
    "deletable": false,
    "editable": false,
    "nbgrader": {
     "checksum": "d15839ac8d68a301dc4dc8449bc07a5b",
     "grade": false,
     "grade_id": "2a",
     "locked": true,
     "schema_version": 1,
     "solution": false
    }
   },
   "source": [
    "### a)\n",
    "\n",
    "Build the root node of a decision tree from the training samples given in the table above by calculating the information gain for all four attributes (raining, tired, late, distance).\n",
    "\n",
    "$$\\operatorname{Gain}(S,A) = \\operatorname{Entropy}(S) - \\sum_{v \\in \\operatorname{Values}(A)} \\frac{|S_v|}{|S|}\\operatorname{Entropy}(S_v)$$\n",
    "\n",
    "$$\\operatorname{Entropy}(S) = -p_{\\oplus} log_{2} p_{\\oplus} - p_{\\ominus} log_{2} p_{\\ominus}$$\n",
    "\n",
    "$S$ is the set of all data samples. $S_v$ is the subset for which attribute $A$ has value $v$. An example for attribute **tired** with value $yes$ would be:\n",
    "$$|S_{yes}| = 7, S_{yes}:[1+, 6−]$$"
   ]
  },
  {
   "cell_type": "markdown",
   "metadata": {
    "deletable": false,
    "nbgrader": {
     "checksum": "5d13a848d94d3a2552c856f613b1fd2d",
     "grade": true,
     "grade_id": "2a-answer",
     "locked": false,
     "points": 4,
     "schema_version": 1,
     "solution": true
    },
    "solution": true
   },
   "source": [
    "$$\\operatorname{Entropy}(S) = -\\frac{1}{3}  log_{2} (\\frac{1}{3}) - \\frac{2}{3}  log_{2} (\\frac{2}{3}) = 0.918$$\n",
    "\n",
    "\n",
    "\n",
    "$$\\operatorname{Entropy}(S, raining, yes) = -\\frac{3}{6}  log_{2} (\\frac{3}{6}) - \\frac{3}{6}  log_{2} (\\frac{3}{6}) = 1$$\n",
    "\n",
    "$$\\operatorname{Entropy}(S, raining, no) = -\\frac{1}{6}  log_{2} (\\frac{1}{6}) - \\frac{5}{6}  log_{2} (\\frac{5}{6}) = 0.650$$\n",
    "\n",
    "\n",
    "\n",
    "$$\\operatorname{Entropy}(S, tired, yes) = -\\frac{1}{7}  log_{2} (\\frac{1}{7}) - \\frac{6}{7}  log_{2} (\\frac{6}{7}) =  0.592$$\n",
    "\n",
    "$$\\operatorname{Entropy}(S, tired, no) = -\\frac{2}{5}  log_{2} (\\frac{2}{5}) - \\frac{3}{5}  log_{2} (\\frac{2}{5}) = 0.97$$\n",
    "\n",
    "\n",
    "\n",
    "\n",
    "$$\\operatorname{Entropy}(S, late, yes) = -1*log_{2}(1)-0 = 0$$\n",
    "\n",
    "$$\\operatorname{Entropy}(S, late, no) = -\\frac{4}{8}  log_{2} (\\frac{4}{8}) - \\frac{4}{8}  log_{2} (\\frac{4}{8}) = 1$$\n",
    "\n",
    "\n",
    "\n",
    "$$\\operatorname{Entropy}(S, distance, short) = -\\frac{3}{6}  log_{2} (\\frac{3}{6}) - \\frac{3}{6}  log_{2} (\\frac{3}{6})= 1$$\n",
    "\n",
    "$$\\operatorname{Entropy}(S, distance, middle) = -\\frac{1}{3}  log_{2} (\\frac{1}{3}) - \\frac{2}{3}  log_{2} (\\frac{2}{3}) =  0.918$$\n",
    "\n",
    "$$\\operatorname{Entropy}(S, distance, long) = - 0 - \\frac{3}{3}  log_{2} (\\frac{3}{3}) = 0$$\n",
    "\n",
    "\n",
    "$$\\operatorname{Gain}(S, raining) = 0.918 - (\\frac{6}{12})*1 - (\\frac{6}{12})*0.650 = 0.093$$\n",
    "$$\\operatorname{Gain}(S, tired) =  0.918 - (\\frac{7}{12})*0.592 - (\\frac{5}{12})*0.97 = 0.1685$$\n",
    "$$\\operatorname{Gain}(S, late) =  0.918 - (\\frac{4}{12})*0 - (\\frac{8}{12})*1 = 0.2513$$\n",
    "$$\\operatorname{Gain}(S, distance) = 0.918 - (\\frac{6}{12})*1 - (\\frac{3}{12})*0.918 - (\\frac{3}{12})*0 = 0.1885$$\n",
    "\n",
    "-> Since the attribute \"late\" yields the highest gains, we choose it as the root node.\n",
    "                         "
   ]
  },
  {
   "cell_type": "markdown",
   "metadata": {
    "deletable": false,
    "editable": false,
    "nbgrader": {
     "checksum": "564babda2996cead4eacceca3b3eeb64",
     "grade": false,
     "grade_id": "2b",
     "locked": true,
     "schema_version": 1,
     "solution": false
    }
   },
   "source": [
    "### b)\n",
    "\n",
    "Perform the same calculation as in **a)** but use the gain ratio instead of the information gain. Does the result for the root node change?\n",
    "\n",
    "$$\\operatorname{GainRatio}(S,A) = \\frac{\\operatorname{Gain}(S,A)}{\\operatorname{SplitInformation}(S,A)}$$\n",
    "\n",
    "$$\\operatorname{SplitInformation}(S,A) = - \\sum_{v \\in \\operatorname{Values}(A)} \\frac{|S_v|}{|S|} \\log_{2} \\frac{|S_{v}|}{|S|}$$"
   ]
  },
  {
   "cell_type": "markdown",
   "metadata": {
    "deletable": false,
    "nbgrader": {
     "checksum": "c536e75b992639fa2b21877a388eda0f",
     "grade": true,
     "grade_id": "2b-answer",
     "locked": false,
     "points": 4,
     "schema_version": 1,
     "solution": true
    },
    "solution": true
   },
   "source": [
    "\n",
    "$$\\operatorname{GainRatio}(S,raining) = 0,0933$$\n",
    "$$\\operatorname{GainRatio}(S,tired) = 0,1720$$\n",
    "$$\\operatorname{GainRatio}(S,late) = 0,2740$$\n",
    "$$\\operatorname{GainRatio}(S,distance) = 0,1258$$\n",
    "\n",
    "-> We still choose \"late\" as our root knot, because it still has the highest valuess and we came to that conclusion because we wrote ourselfs a python script.\n",
    "\n",
    "\n",
    "\n",
    "\n"
   ]
  },
  {
   "cell_type": "markdown",
   "metadata": {
    "deletable": false,
    "editable": false,
    "nbgrader": {
     "checksum": "3096fd53f8793ef0da892c705ed3f4f8",
     "grade": false,
     "grade_id": "3",
     "locked": true,
     "schema_version": 1,
     "solution": false
    }
   },
   "source": [
    "## Assignment 3: ID3 algorithm [4 Points]\n",
    "\n",
    "Implement the following two functions in Python. Take a look at the `assert`s to see how the function should behave. An assert is a condition that your function is required to pass. Most of the conditions here are taken from the lecture slides (ML-03, Slide 12 & 13). Don't worry if you do not get all asserts to pass, just comment the failing ones out."
   ]
  },
  {
   "cell_type": "markdown",
   "metadata": {
    "deletable": false,
    "editable": false,
    "nbgrader": {
     "checksum": "d2f5340f0940155d869e2264fc079981",
     "grade": false,
     "grade_id": "3a-info",
     "locked": true,
     "schema_version": 1,
     "solution": false
    }
   },
   "source": [
    "### a) Entropy\n",
    "\n",
    "$$\\operatorname{Entropy}(S) = - \\sum_{i=1...c} p_i \\log_2 p_i$$"
   ]
  },
  {
   "cell_type": "code",
   "execution_count": 30,
   "metadata": {
    "deletable": false,
    "nbgrader": {
     "checksum": "04ade5155ee9a4ddf8773ac7c21650b3",
     "grade": true,
     "grade_id": "3a-code",
     "locked": false,
     "points": 1,
     "schema_version": 1,
     "solution": true
    }
   },
   "outputs": [],
   "source": [
    "from math import log2\n",
    "def entropy(s):\n",
    "    \"\"\"\n",
    "    Calculate the entropy for a given target value set. \n",
    "    \n",
    "    Args:\n",
    "        s (list): Target classes for specific observations.\n",
    "        \n",
    "    Returns:\n",
    "        The entropy of s.\n",
    "    \"\"\"\n",
    "    # YOUR CODE HERE\n",
    "    countDict = {} \n",
    "    entropyVal = 0\n",
    "    for i in range(0,len(s)):\n",
    "        if countDict.get(str(s[i])) == None:\n",
    "            countDict[s[i]] = s.count(s[i])\n",
    "    for k in countDict:\n",
    "        entropyVal -= log2(countDict[k]/len(s)) * (countDict[k]/len(s))   \n",
    "    \n",
    "    return entropyVal\n",
    "# See ML-03, Slide 12 & 13"
   ]
  },
  {
   "cell_type": "code",
   "execution_count": 38,
   "metadata": {},
   "outputs": [],
   "source": [
    "assert entropy([1,1,1,0,0,0]) == 1.0\n",
    "assert round(entropy([1,1,1,1,0,0,0]), 3) == 0.985\n",
    "assert round(entropy([1,1,1,1,1,1,0]), 3) == 0.592\n",
    "assert round(entropy([1,1,1,1,1,1,0,0]), 3) == 0.811\n",
    "assert round(entropy([2,2,1,1,0,0]), 3) == 1.585\n",
    "assert round(entropy([2,2,2,1,0]), 3) == 1.371\n",
    "assert round(entropy([2,2,2,0,0]), 3) == 0.971\n",
    "assert entropy(['yes','yes','yes','no','no','no']) == 1.0"
   ]
  },
  {
   "cell_type": "markdown",
   "metadata": {
    "deletable": false,
    "editable": false,
    "nbgrader": {
     "checksum": "5e8b62cf831972afa2ba4f73d8c70c53",
     "grade": false,
     "grade_id": "3b",
     "locked": true,
     "schema_version": 1,
     "solution": false
    }
   },
   "source": [
    "### b)  Information Gain\n",
    "\n",
    "$$\\operatorname{Gain}(S,A) = \\operatorname{Entropy}(S) - \\sum_{v \\in \\operatorname{Values}(A)} \\frac{|S_v|}{|S|} \\operatorname{Entropy}(S_v)$$"
   ]
  },
  {
   "cell_type": "code",
   "execution_count": 32,
   "metadata": {
    "deletable": false,
    "nbgrader": {
     "checksum": "2125b6a58982392af48e26ec77dcae8f",
     "grade": true,
     "grade_id": "3b-code",
     "locked": false,
     "points": 1,
     "schema_version": 1,
     "solution": true
    }
   },
   "outputs": [],
   "source": [
    "def gain(targets, attr_values):\n",
    "    \"\"\"\n",
    "    Calculates the expected reduction in entropy due to sorting on A.\n",
    "    \n",
    "    Args:\n",
    "        targets (list): Target classes for observations in attr_values.\n",
    "        attr_values (list): Values of each instance for the respective attribute.\n",
    "        \n",
    "    Returns:\n",
    "        The information gain of \n",
    "    \"\"\"\n",
    "    # YOUR CODE HERE\n",
    "    countList = [(attr_values[i],targets[i]) for i in range(0,len(targets))]\n",
    "    evaluSum = 0   \n",
    "    for i in set(attr_values):\n",
    "        evalList = [k for (j,k) in countList if j == i]\n",
    "        evaluSum +=(len(evalList)/len(targets)) * entropy(evalList)                         \n",
    "    return entropy(targets) - evaluSum         \n",
    "\n",
    "# See ML-03, Slide 12 & 13\n"
   ]
  },
  {
   "cell_type": "code",
   "execution_count": 33,
   "metadata": {},
   "outputs": [],
   "source": [
    "# The lists here can each be seen as one column of a table such as the one in assignment 2. \n",
    "# Assert targets would be the last column, while the attribute values are the values of one attribute, here the \n",
    "# example rain and distance\n",
    "assert_targets = [\"no\",\"no\",\"yes\",\"yes\",\"yes\",\"no\",\"yes\",\"no\",\"yes\",\"yes\",\"yes\",\"yes\",\"yes\",\"no\"]\n",
    "assert_attribute_values_1 = [\"yes\", \"yes\",\"yes\",\"yes\",\"no\", \"no\", \"no\", \"yes\", \"no\", \"no\", \"no\",\"yes\", \"no\", \"yes\"]\n",
    "assert_attribute_values_2 = [\"high\",\"low\",\"medium\",\"high\",\"high\",\"medium\",\"low\",\"medium\",\"low\",\"high\",\"high\",\"medium\",\"low\",\"low\"]\n",
    "assert_attribute_values_3 = [0,1,0,0,0,1,1,0,0,0,1,1,0,1]\n",
    "assert round(gain(assert_targets, assert_attribute_values_1), 3) == 0.152\n",
    "assert round(gain(assert_targets, assert_attribute_values_2), 3) == 0.05\n",
    "assert round(gain(assert_targets, assert_attribute_values_3), 3) == 0.048"
   ]
  },
  {
   "cell_type": "markdown",
   "metadata": {
    "deletable": false,
    "editable": false,
    "nbgrader": {
     "checksum": "7b4abd1f1c72debefc21280a84a13776",
     "grade": false,
     "grade_id": "3c",
     "locked": true,
     "schema_version": 1,
     "solution": false
    }
   },
   "source": [
    "### c) ID3\n",
    "\n",
    "In the next two cells we have implemented the ID3 algorithm following the pseudocode from [Wikipedia](https://en.wikipedia.org/wiki/ID3_algorithm#Pseudocode) - it relies on your two functions from above, `entropy` and `gain`. Try to understand what the code does and replace `# YOUR CODE HERE` with meaningful comments describing the respective parts of the code. Though its often annoying, being able to read other peoples code is one of the key skills (and obstacles) in software engineering. So give it a try! Otherwise you are of course welcome to write your own implementation."
   ]
  },
  {
   "cell_type": "code",
   "execution_count": 34,
   "metadata": {
    "deletable": false,
    "nbgrader": {
     "checksum": "52ad2d3bd7359aff3ea87201783e25aa",
     "grade": true,
     "grade_id": "3c-answer",
     "locked": false,
     "points": 3,
     "schema_version": 1,
     "solution": true
    }
   },
   "outputs": [],
   "source": [
    "from collections import Counter, namedtuple\n",
    "\n",
    "\n",
    "class Node(namedtuple('Node', 'label children')):\n",
    "    \"\"\"\n",
    "    A small node representation with a pretty string representation.\n",
    "    \"\"\"\n",
    "    def str(self, level=0):\n",
    "        return_str ='{}{!s}\\n'.format(' ' * level * 4, self.label)\n",
    "        for child in self.children:\n",
    "            return_str += child.str(level + 1)\n",
    "        return return_str\n",
    "\n",
    "def id3(examples, attributes, target_attribute=None): \n",
    "    \"\"\"\n",
    "    Calculate a tree of Nodes (fields: label [string], children [list]) \n",
    "    using the ID3 algorithm found as pseudocode on Wikipedia.\n",
    "    \"\"\"\n",
    "    # returns either a positive or a negative single node tree root \n",
    "    # in the case that all exampls are either positive or negative respectivly\n",
    "    if all(target == examples['targets'][0] for target in examples['targets']):\n",
    "        return Node('Result: {!s}'.format(examples['target_names'][examples['targets'][0]]), [])\n",
    "    \n",
    "    #\n",
    "    if len(attributes) == 0:\n",
    "        attr = Counter(data_sample[target_attribute] for data_sample in examples['data']).most_common(1)\n",
    "        return Node('Attribute: {!s}, {!s} occurences'.format(examples['attributes'][target_attribute], attr), [])\n",
    "    \n",
    "    # builds a list of all gains and memorizing the max gain\n",
    "    gains = [gain(examples['targets'], [r[attribute] for r in examples['data']]) \n",
    "             for attribute in attributes]\n",
    "    max_gain_attribute = attributes[gains.index(max(gains))]\n",
    "    \n",
    "    # builds a root node with the max gain atrribute\n",
    "    root = Node('Attribute: {!s} (gain {!s})'.format(examples['attributes'][max_gain_attribute], \n",
    "                                                     round(max(gains), 4)), [])\n",
    "    \n",
    "    # goes through the data \n",
    "    for vi in set(data_sample[max_gain_attribute] for data_sample in examples['data']):\n",
    "        # creates a child node and appends it to the tree\n",
    "        child = Node('Value: {!s}'.format(vi), [])\n",
    "        root.children.append(child)\n",
    "        \n",
    "        # build dict with data target combiation\n",
    "        vi_indices = [idx for idx, data_sample in enumerate(examples['data']) \n",
    "                          if data_sample[max_gain_attribute] == vi]\n",
    "        examples_vi = dict(examples)\n",
    "        examples_vi['data'] = [examples['data'][i] for i in vi_indices]\n",
    "        examples_vi['targets'] = [examples['targets'][i] for i in vi_indices]\n",
    "        \n",
    "        if examples_vi['data']:\n",
    "            # append id3 subtree\n",
    "            child.children.append(\n",
    "                id3(examples_vi,\n",
    "                    [attribute_ for attribute_ in attributes if not attribute_ == max_gain_attribute],\n",
    "                    max_gain_attribute)\n",
    "            )\n",
    "            \n",
    "        else:\n",
    "            # if the examples are empty ad leaf note with label\n",
    "            attr = Counter(examples_vi['targets']).most_common(1)\n",
    "            label = 'Attribute: {!s}, {!s} occurences'.format(examples['attributes'][target_attribute], attr)\n",
    "            child.children.append(Node(label, []))\n",
    "\n",
    "    return root"
   ]
  },
  {
   "cell_type": "markdown",
   "metadata": {
    "deletable": false,
    "editable": false,
    "nbgrader": {
     "checksum": "c6e1baefc0a57b24cd302d84096f5318",
     "grade": false,
     "grade_id": "3d-1",
     "locked": true,
     "schema_version": 1,
     "solution": false
    }
   },
   "source": [
    "### d) The algorithm is applied to two data sets. Run those and discuss the differences. For which data set is the ID3 algorithm better suited and why?"
   ]
  },
  {
   "cell_type": "markdown",
   "metadata": {
    "deletable": false,
    "editable": false,
    "nbgrader": {
     "checksum": "0635f51b260f64ea62131b9df63d555b",
     "grade": false,
     "grade_id": "3d-2",
     "locked": true,
     "schema_version": 1,
     "solution": false
    }
   },
   "source": [
    "This code runs the ID3 algorithm on the party data set which you already know from assignment 2."
   ]
  },
  {
   "cell_type": "code",
   "execution_count": 35,
   "metadata": {
    "deletable": false,
    "editable": false,
    "nbgrader": {
     "checksum": "b993a47515301e3cd87cf1a9fbd76398",
     "grade": false,
     "grade_id": "3d-3",
     "locked": true,
     "schema_version": 1,
     "solution": false
    }
   },
   "outputs": [
    {
     "name": "stdout",
     "output_type": "stream",
     "text": [
      "Node(label='Attribute: late (gain 0.2516)', children=[Node(label='Value: no', children=[Node(label='Attribute: distance (gain 0.75)', children=[Node(label='Value: short', children=[Node(label='Result: yes', children=[])]), Node(label='Value: long', children=[Node(label='Result: no', children=[])]), Node(label='Value: medium', children=[Node(label='Attribute: tired (gain 1.0)', children=[Node(label='Value: no', children=[Node(label='Result: yes', children=[])]), Node(label='Value: yes', children=[Node(label='Result: no', children=[])])])])])]), Node(label='Value: yes', children=[Node(label='Result: no', children=[])])])\n"
     ]
    }
   ],
   "source": [
    "import json\n",
    "\n",
    "with open('party.json', 'r') as party_file:\n",
    "    party = json.load(party_file)\n",
    "\n",
    "# Make sure our gain function handles the data set as expected.\n",
    "assert round(gain(party['targets'], [r[2] for r in party['data']]), 3) == 0.252\n",
    "\n",
    "# Apply ID3 algorithm\n",
    "tree_party = id3(party, list(range(len(party['attributes']))))\n",
    "\n",
    "print(tree_party)"
   ]
  },
  {
   "cell_type": "markdown",
   "metadata": {
    "deletable": false,
    "editable": false,
    "nbgrader": {
     "checksum": "de31233052165e7fec0e8fbfdf13ef86",
     "grade": false,
     "grade_id": "3d-4",
     "locked": true,
     "schema_version": 1,
     "solution": false
    }
   },
   "source": [
    "This code runs the ID3 algorithm on the famous iris flowser data set, you have seen in the demo from the 2nd practice session."
   ]
  },
  {
   "cell_type": "code",
   "execution_count": 36,
   "metadata": {
    "deletable": false,
    "editable": false,
    "nbgrader": {
     "checksum": "3ded027d34301668b53acdab7cd53e3d",
     "grade": false,
     "grade_id": "3d-5",
     "locked": true,
     "schema_version": 1,
     "solution": false
    }
   },
   "outputs": [
    {
     "name": "stdout",
     "output_type": "stream",
     "text": [
      "Node(label='Attribute: petal length (gain 1.4463)', children=[Node(label='Value: 3.3', children=[Node(label='Result: Iris-versicolor', children=[])]), Node(label='Value: 3.6', children=[Node(label='Result: Iris-versicolor', children=[])]), Node(label='Value: 1.7', children=[Node(label='Result: Iris-setosa', children=[])]), Node(label='Value: 4.5', children=[Node(label='Attribute: sepal length (gain 0.5436)', children=[Node(label='Value: 5.7', children=[Node(label='Result: Iris-versicolor', children=[])]), Node(label='Value: 4.9', children=[Node(label='Result: Iris-virginica', children=[])]), Node(label='Value: 6.0', children=[Node(label='Result: Iris-versicolor', children=[])]), Node(label='Value: 5.4', children=[Node(label='Result: Iris-versicolor', children=[])]), Node(label='Value: 6.4', children=[Node(label='Result: Iris-versicolor', children=[])]), Node(label='Value: 6.2', children=[Node(label='Result: Iris-versicolor', children=[])]), Node(label='Value: 5.6', children=[Node(label='Result: Iris-versicolor', children=[])])])]), Node(label='Value: 1.1', children=[Node(label='Result: Iris-setosa', children=[])]), Node(label='Value: 6.4', children=[Node(label='Result: Iris-virginica', children=[])]), Node(label='Value: 6.3', children=[Node(label='Result: Iris-virginica', children=[])]), Node(label='Value: 6.6', children=[Node(label='Result: Iris-virginica', children=[])]), Node(label='Value: 1.5', children=[Node(label='Result: Iris-setosa', children=[])]), Node(label='Value: 1.4', children=[Node(label='Result: Iris-setosa', children=[])]), Node(label='Value: 5.9', children=[Node(label='Result: Iris-virginica', children=[])]), Node(label='Value: 4.1', children=[Node(label='Result: Iris-versicolor', children=[])]), Node(label='Value: 5.5', children=[Node(label='Result: Iris-virginica', children=[])]), Node(label='Value: 4.3', children=[Node(label='Result: Iris-versicolor', children=[])]), Node(label='Value: 5.8', children=[Node(label='Result: Iris-virginica', children=[])]), Node(label='Value: 1.9', children=[Node(label='Result: Iris-setosa', children=[])]), Node(label='Value: 3.7', children=[Node(label='Result: Iris-versicolor', children=[])]), Node(label='Value: 1.2', children=[Node(label='Result: Iris-setosa', children=[])]), Node(label='Value: 4.9', children=[Node(label='Attribute: sepal width (gain 0.971)', children=[Node(label='Value: 2.5', children=[Node(label='Result: Iris-versicolor', children=[])]), Node(label='Value: 3.0', children=[Node(label='Result: Iris-virginica', children=[])]), Node(label='Value: 2.7', children=[Node(label='Result: Iris-virginica', children=[])]), Node(label='Value: 3.1', children=[Node(label='Result: Iris-versicolor', children=[])]), Node(label='Value: 2.8', children=[Node(label='Result: Iris-virginica', children=[])])])]), Node(label='Value: 5.7', children=[Node(label='Result: Iris-virginica', children=[])]), Node(label='Value: 3.5', children=[Node(label='Result: Iris-versicolor', children=[])]), Node(label='Value: 5.1', children=[Node(label='Attribute: sepal length (gain 0.5436)', children=[Node(label='Value: 5.8', children=[Node(label='Result: Iris-virginica', children=[])]), Node(label='Value: 6.5', children=[Node(label='Result: Iris-virginica', children=[])]), Node(label='Value: 6.0', children=[Node(label='Result: Iris-versicolor', children=[])]), Node(label='Value: 6.9', children=[Node(label='Result: Iris-virginica', children=[])]), Node(label='Value: 6.3', children=[Node(label='Result: Iris-virginica', children=[])]), Node(label='Value: 5.9', children=[Node(label='Result: Iris-virginica', children=[])])])]), Node(label='Value: 1.3', children=[Node(label='Result: Iris-setosa', children=[])]), Node(label='Value: 3.0', children=[Node(label='Result: Iris-versicolor', children=[])]), Node(label='Value: 5.2', children=[Node(label='Result: Iris-virginica', children=[])]), Node(label='Value: 5.3', children=[Node(label='Result: Iris-virginica', children=[])]), Node(label='Value: 6.9', children=[Node(label='Result: Iris-virginica', children=[])]), Node(label='Value: 4.6', children=[Node(label='Result: Iris-versicolor', children=[])]), Node(label='Value: 5.6', children=[Node(label='Result: Iris-virginica', children=[])]), Node(label='Value: 4.4', children=[Node(label='Result: Iris-versicolor', children=[])]), Node(label='Value: 1.6', children=[Node(label='Result: Iris-setosa', children=[])]), Node(label='Value: 6.1', children=[Node(label='Result: Iris-virginica', children=[])]), Node(label='Value: 4.0', children=[Node(label='Result: Iris-versicolor', children=[])]), Node(label='Value: 5.0', children=[Node(label='Attribute: sepal length (gain 0.8113)', children=[Node(label='Value: 6.7', children=[Node(label='Result: Iris-versicolor', children=[])]), Node(label='Value: 6.0', children=[Node(label='Result: Iris-virginica', children=[])]), Node(label='Value: 5.7', children=[Node(label='Result: Iris-virginica', children=[])]), Node(label='Value: 6.3', children=[Node(label='Result: Iris-virginica', children=[])])])]), Node(label='Value: 3.9', children=[Node(label='Result: Iris-versicolor', children=[])]), Node(label='Value: 1.0', children=[Node(label='Result: Iris-setosa', children=[])]), Node(label='Value: 6.0', children=[Node(label='Result: Iris-virginica', children=[])]), Node(label='Value: 6.7', children=[Node(label='Result: Iris-virginica', children=[])]), Node(label='Value: 5.4', children=[Node(label='Result: Iris-virginica', children=[])]), Node(label='Value: 4.8', children=[Node(label='Attribute: sepal length (gain 1.0)', children=[Node(label='Value: 6.8', children=[Node(label='Result: Iris-versicolor', children=[])]), Node(label='Value: 6.0', children=[Node(label='Result: Iris-virginica', children=[])]), Node(label='Value: 6.2', children=[Node(label='Result: Iris-virginica', children=[])]), Node(label='Value: 5.9', children=[Node(label='Result: Iris-versicolor', children=[])])])]), Node(label='Value: 4.2', children=[Node(label='Result: Iris-versicolor', children=[])]), Node(label='Value: 3.8', children=[Node(label='Result: Iris-versicolor', children=[])]), Node(label='Value: 4.7', children=[Node(label='Result: Iris-versicolor', children=[])])])\n"
     ]
    }
   ],
   "source": [
    "import json\n",
    "\n",
    "with open('iris.json', 'r') as iris_file:\n",
    "    iris = json.load(iris_file)\n",
    "\n",
    "# Make sure our gain function handles the data set as expected.\n",
    "assert round(gain(iris['targets'], [r[2] for r in iris['data']]), 3) == 1.446\n",
    "\n",
    "# Apply ID3 algorithm\n",
    "tree_iris = id3(iris, list(range(len(iris['attributes']))))\n",
    "\n",
    "print(tree_iris)"
   ]
  },
  {
   "cell_type": "markdown",
   "metadata": {
    "deletable": false,
    "nbgrader": {
     "checksum": "2e6c4f9c4f123dbe30830eddaa329a5a",
     "grade": true,
     "grade_id": "3d-answer",
     "locked": false,
     "points": 1,
     "schema_version": 1,
     "solution": true
    }
   },
   "source": [
    "The party data set might be more suited for the ID3 algorithm. Occams razor is not relevant for this decission because we talk about different data sets. The tree build by the flower data set is more branched out. It has more possible values for each attribute compaired to the party data set. This makes the flower tree harder to read and understand."
   ]
  },
  {
   "cell_type": "markdown",
   "metadata": {
    "deletable": false,
    "editable": false,
    "nbgrader": {
     "checksum": "5dc1522bb31d6228d86abd5c50d81a3b",
     "grade": false,
     "grade_id": "4-1",
     "locked": true,
     "schema_version": 1,
     "solution": false
    }
   },
   "source": [
    "## Assignment 4: Decision Trees on Iris Flowers [5 Points]\n",
    "\n",
    "In this exercise we are going to examine and compare two decision trees that were generated from the iris flower data set ([Wikipedia](https://en.wikipedia.org/wiki/Iris_flower_data_set)) where three variations of the iris flower are quantified. The Iris data set is a classical example of a labeled dataset, i.e. every sample consists of two parts: features and labels. There are four features per sample in this data set (sepal length ($x_1$), sepal width ($x_2$), petal length ($x_2$) and petal width ($x_4$) in cm) and a corresponding label (Iris Setosa, Iris Versicolour, Iris Virginica). These samples are by nature **noisy**, no matter how carefully the measurement was taken - slight deviation from the actual length **cannot be avoided**. We want to learn how the features are related to the label so that we could (in the future) predict the label of a new sample automatically. One way to obtain such a `classifier` is to train a decision tree on the data.\n",
    "\n",
    "Here are two decisions tree generated by the data set. We will now take a closer look."
   ]
  },
  {
   "cell_type": "markdown",
   "metadata": {
    "deletable": false,
    "editable": false,
    "nbgrader": {
     "checksum": "af2ccfb1674639851b0f18b6be1da35b",
     "grade": false,
     "grade_id": "4-2",
     "locked": true,
     "schema_version": 1,
     "solution": false
    }
   },
   "source": [
    "### Tree 1:"
   ]
  },
  {
   "cell_type": "raw",
   "metadata": {},
   "source": [
    "                      +\n",
    "                      |\n",
    "                      |\n",
    "                      |\n",
    "       x3 < 2.45      |     x3 >= 2.45\n",
    "   +------------------+------------------+\n",
    "   |                                     |\n",
    "   |                        x4 < 1.75    |     x4 >= 1.75\n",
    "   +                           +---------+---------+\n",
    "setosa                         |                   |\n",
    "                               |                   |\n",
    "                     x3 < 4.95 |   x3 >= 4.95      +\n",
    "                        +--------------+       virginica\n",
    "                        |              |\n",
    "                        |              |\n",
    "              x4 < 1.65 | x4 >= 1.65   +\n",
    "                 +------------+    virginica\n",
    "                 |            |\n",
    "                 |            |\n",
    "                 +            +\n",
    "            versicolor    virginica\n"
   ]
  },
  {
   "cell_type": "markdown",
   "metadata": {
    "deletable": false,
    "editable": false,
    "nbgrader": {
     "checksum": "379274c730339c0ee2c1c50c3c6caca0",
     "grade": false,
     "grade_id": "4-4",
     "locked": true,
     "schema_version": 1,
     "solution": false
    }
   },
   "source": [
    "### Tree 2:"
   ]
  },
  {
   "cell_type": "raw",
   "metadata": {},
   "source": [
    "a                     + \n",
    "                      |\n",
    "                      |\n",
    "                      |\n",
    "       x3 < 2.45      |     x3 >= 2.45\n",
    "   +------------------+------------------+\n",
    "   |                                     |\n",
    "   |                        x4 < 1.75    |     x4 >= 1.75\n",
    "   +                           +---------+---------+\n",
    "setosa                         |                   |\n",
    "                               |                   |\n",
    "                               +                   +\n",
    "                          versicolor           virginica"
   ]
  },
  {
   "cell_type": "markdown",
   "metadata": {
    "deletable": false,
    "editable": false,
    "nbgrader": {
     "checksum": "35b088a08590672c1f42f4fc3cfc13ec",
     "grade": false,
     "grade_id": "4a-1",
     "locked": true,
     "schema_version": 1,
     "solution": false
    }
   },
   "source": [
    "### a)\n",
    "\n",
    "What does it mean that the features $x1$ and $x2$ do not appear in the decision trees?"
   ]
  },
  {
   "cell_type": "markdown",
   "metadata": {
    "deletable": false,
    "nbgrader": {
     "checksum": "494a7784873d2fc015370f61c0b64eec",
     "grade": true,
     "grade_id": "4a-answer",
     "locked": false,
     "points": 1,
     "schema_version": 1,
     "solution": true
    },
    "solution": true
   },
   "source": [
    "It means that x1 and x2 are unnecessary in order to classify a flower. Knowing their value does not help anymore after having looked at the values of x3 and x4."
   ]
  },
  {
   "cell_type": "markdown",
   "metadata": {
    "deletable": false,
    "editable": false,
    "nbgrader": {
     "checksum": "7c064079651956803214944eb630f2ae",
     "grade": false,
     "grade_id": "4b",
     "locked": true,
     "schema_version": 1,
     "solution": false
    }
   },
   "source": [
    "### b)\n",
    "With which method from the lecture might the second tree have been generated from the first one? Explain the procedure."
   ]
  },
  {
   "cell_type": "markdown",
   "metadata": {
    "deletable": false,
    "nbgrader": {
     "checksum": "0a5a3187f58d0e0e6e9f8d8932ceeed8",
     "grade": true,
     "grade_id": "4b-answer",
     "locked": false,
     "points": 1,
     "schema_version": 1,
     "solution": true
    },
    "solution": true
   },
   "source": [
    "Reduced Error Pruning:\n",
    "Prune the tree by removing nodes until it reduces performance on validation set, \n",
    "\n",
    "\n"
   ]
  },
  {
   "cell_type": "markdown",
   "metadata": {
    "deletable": false,
    "editable": false,
    "nbgrader": {
     "checksum": "c7ede1ff7432ee290d63065372c754cb",
     "grade": false,
     "grade_id": "4c",
     "locked": true,
     "schema_version": 1,
     "solution": false
    }
   },
   "source": [
    "### c)\n",
    "After training the tree we can calculate the accuracy, i.e. the percentage of the training set that is classified correctly. Although the first tree was trained on the data set until no improvement of the accuracy was possible, its accuracy is *only* 98%. Explain why it is not 100 %"
   ]
  },
  {
   "cell_type": "markdown",
   "metadata": {
    "deletable": false,
    "nbgrader": {
     "checksum": "602464d5b9d93a8576cf0a4f433c0c9e",
     "grade": true,
     "grade_id": "4c-answer",
     "locked": false,
     "points": 1,
     "schema_version": 1,
     "solution": true
    },
    "solution": true
   },
   "source": [
    "There could be some attributes besides X1-4 that provide information which is necessary in order to classify a flower with 100% accuracy. It is not guaranteed that the the measured attributes are sufficient for an absolute accurate classification."
   ]
  },
  {
   "cell_type": "markdown",
   "metadata": {
    "deletable": false,
    "editable": false,
    "nbgrader": {
     "checksum": "ae24558c8b8ec38fec81dd7a4bea0f96",
     "grade": false,
     "grade_id": "4d",
     "locked": true,
     "schema_version": 1,
     "solution": false
    }
   },
   "source": [
    "### d)\n",
    "\n",
    "Tree 2 only has a 96% accuracy on the training set. Why might this tree still be preferable over tree 1?"
   ]
  },
  {
   "cell_type": "markdown",
   "metadata": {
    "deletable": false,
    "nbgrader": {
     "checksum": "c12b2c472831afbdfebf1f5a5820681c",
     "grade": true,
     "grade_id": "4d-answer",
     "locked": false,
     "points": 1,
     "schema_version": 1,
     "solution": true
    },
    "solution": true
   },
   "source": [
    "Because Tree 1 might only have such a high accuracy because it is overfitting the training data. Therefore Tree2 might be worse for the training data but would be on average be better on new data.\n",
    "\n",
    "Also, Tree2 is shorter on one branch and therefore computation costs for classification are lower when using Tree2."
   ]
  },
  {
   "cell_type": "code",
   "execution_count": null,
   "metadata": {},
   "outputs": [],
   "source": []
  },
  {
   "cell_type": "code",
   "execution_count": null,
   "metadata": {},
   "outputs": [],
   "source": []
  },
  {
   "cell_type": "code",
   "execution_count": null,
   "metadata": {},
   "outputs": [],
   "source": []
  },
  {
   "cell_type": "code",
   "execution_count": null,
   "metadata": {},
   "outputs": [],
   "source": []
  },
  {
   "cell_type": "code",
   "execution_count": null,
   "metadata": {},
   "outputs": [],
   "source": []
  },
  {
   "cell_type": "code",
   "execution_count": null,
   "metadata": {},
   "outputs": [],
   "source": []
  },
  {
   "cell_type": "code",
   "execution_count": null,
   "metadata": {},
   "outputs": [],
   "source": []
  }
 ],
 "metadata": {
  "kernelspec": {
   "display_name": "Python 3",
   "language": "python",
   "name": "python3"
  },
  "language_info": {
   "codemirror_mode": {
    "name": "ipython",
    "version": 3
   },
   "file_extension": ".py",
   "mimetype": "text/x-python",
   "name": "python",
   "nbconvert_exporter": "python",
   "pygments_lexer": "ipython3",
   "version": "3.7.0"
  },
  "widgets": {
   "state": {},
   "version": "1.1.2"
  }
 },
 "nbformat": 4,
 "nbformat_minor": 2
}
