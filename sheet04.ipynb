{
 "cells": [
  {
   "cell_type": "markdown",
   "metadata": {
    "deletable": false,
    "editable": false,
    "nbgrader": {
     "checksum": "ec38a9ccc4e957e0c497b077cf11dd7a",
     "grade": false,
     "grade_id": "cell-052996cdde78445b",
     "locked": true,
     "schema_version": 1,
     "solution": false
    }
   },
   "source": [
    "Osnabrück University - Machine Learning (Summer Term 2019) - Prof. Dr.-Ing. G. Heidemann, Axel Schaffland, Ulf Krumnack"
   ]
  },
  {
   "cell_type": "markdown",
   "metadata": {
    "deletable": false,
    "editable": false,
    "nbgrader": {
     "checksum": "25a2663f7e80ba30383d15a954b5ac20",
     "grade": false,
     "grade_id": "heading",
     "locked": true,
     "schema_version": 1,
     "solution": false
    }
   },
   "source": [
    "# Exercise Sheet 04: Clustering"
   ]
  },
  {
   "cell_type": "markdown",
   "metadata": {
    "deletable": false,
    "editable": false,
    "nbgrader": {
     "checksum": "d790265787b01e01b5eda86f4ebe0ea1",
     "grade": false,
     "grade_id": "intro",
     "locked": true,
     "schema_version": 1,
     "solution": false
    }
   },
   "source": [
    "## Introduction\n",
    "\n",
    "This week's sheet should be solved and handed in before the end of **Sunday, May 05, 2019**. If you need help (and Google and other resources were not enough), feel free to contact your groups designated tutor or whomever of us you run into first. Please upload your results to your group's Stud.IP folder.\n",
    "\n",
    "In the following tasks we will be relying on numpy. Using the following import we expect it to be in global scope as `np`. Therefore we can, after executing the following cell, use stuff like `np.array` and `np.sqrt`. Check out the [NumPy Reference](http://docs.scipy.org/doc/numpy/reference/index.html) and especially search it using e.g. [Google Site Search](https://www.google.de/search?q=array+site%3Adocs.scipy.org%2Fdoc%2Fnumpy)! You can also try `np.lookfor('keyword search docstrings')` to get help."
   ]
  },
  {
   "cell_type": "code",
   "execution_count": 2,
   "metadata": {},
   "outputs": [
    {
     "name": "stdout",
     "output_type": "stream",
     "text": [
      "Search results for 'get array diagonal'\n",
      "---------------------------------------\n",
      "numpy.fill_diagonal\n",
      "    Fill the main diagonal of the given array of any dimensionality.\n",
      "numpy.mask_indices\n",
      "    Return the indices to access (n, n) arrays, given a masking function.\n"
     ]
    }
   ],
   "source": [
    "import numpy as np\n",
    "np.lookfor('get array diagonal')"
   ]
  },
  {
   "cell_type": "markdown",
   "metadata": {
    "deletable": false,
    "editable": false,
    "nbgrader": {
     "checksum": "ad3ba1c4e9d641050eb9c7e2e621f9e0",
     "grade": false,
     "grade_id": "cell-0ceaa7378e4a713d",
     "locked": true,
     "schema_version": 1,
     "solution": false
    }
   },
   "source": [
    "## Assignment 0: Math recap (Eigenvectors and Eigenvalues) [0 Points]\n",
    "\n",
    "This exercise is supposed to be very easy, does not give any points, and is voluntary. There will be a similar exercise on every sheet. It is intended to revise some basic mathematical notions that are assumed throughout this class and to allow you to check if you are comfortable with them. Usually you should have no problem to answer these questions offhand, but if you feel unsure, this is a good time to look them up again. You are always welcome to discuss questions with the tutors or in the practice session. Also, if you have a (math) topic you would like to recap, please let us know."
   ]
  },
  {
   "cell_type": "markdown",
   "metadata": {
    "deletable": false,
    "editable": false,
    "nbgrader": {
     "checksum": "73f5890da9ce4d25e9e3792583ebb627",
     "grade": false,
     "grade_id": "cell-106b918b6f9c6fea",
     "locked": true,
     "schema_version": 1,
     "solution": false
    }
   },
   "source": [
    "**a)** What is an eigenvector of a matrix/a linear mapping? What are eigenvalues?"
   ]
  },
  {
   "cell_type": "markdown",
   "metadata": {
    "collapsed": true,
    "deletable": false,
    "nbgrader": {
     "checksum": "36475d2d0f85070bc2f5c7617633e228",
     "grade": true,
     "grade_id": "cell-f80e2cfbc5dae96a",
     "locked": false,
     "points": 0,
     "schema_version": 1,
     "solution": true
    },
    "solution": true
   },
   "source": [
    "YOUR ANSWER HERE"
   ]
  },
  {
   "cell_type": "markdown",
   "metadata": {
    "deletable": false,
    "editable": false,
    "nbgrader": {
     "checksum": "a3e11c3b58acdf8bea3841ff97bc910b",
     "grade": false,
     "grade_id": "cell-10c6f038150609e1",
     "locked": true,
     "schema_version": 1,
     "solution": false
    }
   },
   "source": [
    "**b)** What is the characteristic polynomial of a matrix? How is it related to eigenvalues? What are algebraic and geometric multiplicity of an eigenvalue?"
   ]
  },
  {
   "cell_type": "markdown",
   "metadata": {
    "collapsed": true,
    "deletable": false,
    "nbgrader": {
     "checksum": "4ff3d7e15d56e4dbc54eaef465500577",
     "grade": true,
     "grade_id": "cell-c45db6ae30a5507a",
     "locked": false,
     "points": 0,
     "schema_version": 1,
     "solution": true
    },
    "solution": true
   },
   "source": [
    "YOUR ANSWER HERE"
   ]
  },
  {
   "cell_type": "markdown",
   "metadata": {
    "deletable": false,
    "editable": false,
    "nbgrader": {
     "checksum": "68f4221888e27427dc63c2e414edcf35",
     "grade": false,
     "grade_id": "cell-7822385798587c45",
     "locked": true,
     "schema_version": 1,
     "solution": false
    }
   },
   "source": [
    "**c)** What is the spectrum of a matrix? What does the spectral theorem state?"
   ]
  },
  {
   "cell_type": "markdown",
   "metadata": {
    "collapsed": true,
    "deletable": false,
    "nbgrader": {
     "checksum": "94696dd22018d912b2a84a73c0a13030",
     "grade": true,
     "grade_id": "cell-1a5e17baf68e02e1",
     "locked": false,
     "points": 0,
     "schema_version": 1,
     "solution": true
    },
    "solution": true
   },
   "source": [
    "YOUR ANSWER HERE"
   ]
  },
  {
   "cell_type": "markdown",
   "metadata": {
    "deletable": false,
    "editable": false,
    "nbgrader": {
     "checksum": "2009461a626ca1c13fce0cf5ca586c80",
     "grade": false,
     "grade_id": "math-eigen-q4",
     "locked": true,
     "schema_version": 1,
     "solution": false
    }
   },
   "source": [
    "**d)** [bonus task]: Numpy/Scipy provide functions to compute eigenvalues. Lookup these functions and apply them to an example."
   ]
  },
  {
   "cell_type": "code",
   "execution_count": null,
   "metadata": {
    "deletable": false,
    "nbgrader": {
     "checksum": "921f072e460d78509d4e2626c8d1008f",
     "grade": true,
     "grade_id": "cell-2400c166c6ecc90d",
     "locked": false,
     "points": 0,
     "schema_version": 1,
     "solution": true
    }
   },
   "outputs": [],
   "source": [
    "# YOUR CODE HERE"
   ]
  },
  {
   "cell_type": "markdown",
   "metadata": {
    "deletable": false,
    "editable": false,
    "nbgrader": {
     "checksum": "f25333cded2a9c303497cd7e5090faa8",
     "grade": false,
     "grade_id": "1",
     "locked": true,
     "schema_version": 1,
     "solution": false
    }
   },
   "source": [
    "## Assignment 1: Distance Measures [4 Points]\n",
    "\n",
    "This exercise is focused on implementing some distance functions that later on help with the clustering. They should all use the euclidean distance as a measurement. The first function is closely related to the MATLAB pdist2 function. This is the summary from the [documentation](http://de.mathworks.com/help/stats/pdist2.html):\n",
    "\n",
    "*D = pdist2(X,Y) returns a matrix D containing the Euclidean distances between each pair of observations in the mx-by-n data matrix X and my-by-n data matrix Y. Rows of X and Y correspond to observations, columns correspond to variables. D is an mx-by-my matrix, with the (i,j) entry equal to distance between observation i in X and observation j in Y. The (i,j) entry will be NaN if observation i in X or observation j in Y contain NaNs.*"
   ]
  },
  {
   "cell_type": "code",
   "execution_count": 4,
   "metadata": {
    "deletable": false,
    "nbgrader": {
     "checksum": "7e8655f85eb352c665c6d9cb44218bb3",
     "grade": true,
     "grade_id": "1_a",
     "locked": false,
     "points": 2,
     "schema_version": 1,
     "solution": true
    }
   },
   "outputs": [
    {
     "name": "stdout",
     "output_type": "stream",
     "text": [
      "[[20.78460969 25.98076211 31.17691454]\n",
      " [15.58845727 20.78460969 25.98076211]\n",
      " [10.39230485 15.58845727 20.78460969]\n",
      " [ 5.19615242 10.39230485 15.58845727]]\n",
      "[[20.78460969 25.98076211 31.17691454]\n",
      " [15.58845727 20.78460969 25.98076211]\n",
      " [10.39230485 15.58845727 20.78460969]\n",
      " [ 5.19615242 10.39230485 15.58845727]]\n",
      "[[20.78460969 25.98076211 31.17691454]\n",
      " [15.58845727 20.78460969 25.98076211]\n",
      " [10.39230485 15.58845727 20.78460969]\n",
      " [ 5.19615242 10.39230485 15.58845727]]\n",
      "[[ 0.                 nan]\n",
      " [ 5.19615242         nan]\n",
      " [10.39230485         nan]\n",
      " [15.58845727         nan]]\n"
     ]
    }
   ],
   "source": [
    "def pdist2(x, y):\n",
    "    \"\"\"\n",
    "    Pairwise distance between all points of two datasets.\n",
    "    \n",
    "    Args:\n",
    "        x (ndarray): Containing j data points of dimension n. Shape (j, n).\n",
    "        y (ndarray): Containing k data points of dimension n. Shape (k, n).\n",
    "        \n",
    "    Returns:\n",
    "        ndarray: Pairwise distances between all data points. Shape (j, k).\n",
    "    \"\"\"\n",
    "    # YOUR CODE HERE\n",
    "    \n",
    "    #incase you want to print the output\n",
    "    #print(np.array(np.split(np.array([np.sqrt(np.sum([(x[i,k]-y[j,k])**2 for k in range(0,np.shape(y)[1])]))for i in range(0,np.shape(x)[0]) for j in range(0,np.shape(y)[0])]),np.shape(x)[0])))\n",
    "\n",
    "    #debugging version, easy to parse\n",
    "    #result = []\n",
    "    #for i in range(0,np.shape(x)[0]):\n",
    "    #    for j in range(0,np.shape(y)[0]):\n",
    "    #        result.append(np.sqrt(np.sum([(x[i,k]-y[j,k])**2 for k in range(0,np.shape(y)[1])])))\n",
    "    #       \n",
    "    # \n",
    "    #result = np.array(np.split(np.array(result),np.shape(x)[0]))\n",
    "    #print(result)\n",
    "    #return result\n",
    "    \n",
    "    \n",
    "    return  np.array(np.split(np.array([np.sqrt(np.sum([(x[i,k]-y[j,k])**2 for k in range(0,np.shape(y)[1])]))for i in range(0,np.shape(x)[0]) for j in range(0,np.shape(y)[0])]),np.shape(x)[0]))\n",
    "   \n",
    "\n",
    "\n",
    "x = np.array([[1,2,3], [4,5,6], [7,8,9], [10,11,12]])\n",
    "y = np.array([[13,14,15], [16,17,18], [19,20,21]])\n",
    "n = np.array([[1,2,3], [float('NaN'),1,0]])\n",
    "\n",
    "assert pdist2(x, y).shape == (4, 3), \"Shape is wrong: {}\".format(pdist2(X, Y).shape)\n",
    "assert np.round(pdist2(x, y)[3,0], 3) == 5.196, \"[10,11,12] and [13,14,15] is wrong: {}\".format(pdist2(X, Y)[3,0])\n",
    "assert np.round(np.mean(pdist2(x, y)), 3) == 18.187, \"Mean distance is wrong: {}\".format(np.mean(pdist2(X, Y)))\n",
    "assert np.isnan(pdist2(x, n)[0,1]), \"Should be NaN: {}\".format(pdist2(X, N)[0,1])"
   ]
  },
  {
   "cell_type": "code",
   "execution_count": 14,
   "metadata": {},
   "outputs": [
    {
     "ename": "ValueError",
     "evalue": "Unknown projection '3d'",
     "output_type": "error",
     "traceback": [
      "\u001b[1;31m---------------------------------------------------------------------------\u001b[0m",
      "\u001b[1;31mKeyError\u001b[0m                                  Traceback (most recent call last)",
      "\u001b[1;32m~\\Anaconda3\\lib\\site-packages\\matplotlib\\projections\\__init__.py\u001b[0m in \u001b[0;36mget_projection_class\u001b[1;34m(projection)\u001b[0m\n\u001b[0;32m     62\u001b[0m     \u001b[1;32mtry\u001b[0m\u001b[1;33m:\u001b[0m\u001b[1;33m\u001b[0m\u001b[0m\n\u001b[1;32m---> 63\u001b[1;33m         \u001b[1;32mreturn\u001b[0m \u001b[0mprojection_registry\u001b[0m\u001b[1;33m.\u001b[0m\u001b[0mget_projection_class\u001b[0m\u001b[1;33m(\u001b[0m\u001b[0mprojection\u001b[0m\u001b[1;33m)\u001b[0m\u001b[1;33m\u001b[0m\u001b[0m\n\u001b[0m\u001b[0;32m     64\u001b[0m     \u001b[1;32mexcept\u001b[0m \u001b[0mKeyError\u001b[0m\u001b[1;33m:\u001b[0m\u001b[1;33m\u001b[0m\u001b[0m\n",
      "\u001b[1;32m~\\Anaconda3\\lib\\site-packages\\matplotlib\\projections\\__init__.py\u001b[0m in \u001b[0;36mget_projection_class\u001b[1;34m(self, name)\u001b[0m\n\u001b[0;32m     28\u001b[0m         \"\"\"\n\u001b[1;32m---> 29\u001b[1;33m         \u001b[1;32mreturn\u001b[0m \u001b[0mself\u001b[0m\u001b[1;33m.\u001b[0m\u001b[0m_all_projection_types\u001b[0m\u001b[1;33m[\u001b[0m\u001b[0mname\u001b[0m\u001b[1;33m]\u001b[0m\u001b[1;33m\u001b[0m\u001b[0m\n\u001b[0m\u001b[0;32m     30\u001b[0m \u001b[1;33m\u001b[0m\u001b[0m\n",
      "\u001b[1;31mKeyError\u001b[0m: '3d'",
      "\nDuring handling of the above exception, another exception occurred:\n",
      "\u001b[1;31mValueError\u001b[0m                                Traceback (most recent call last)",
      "\u001b[1;32m<ipython-input-14-94d4b5428e42>\u001b[0m in \u001b[0;36m<module>\u001b[1;34m()\u001b[0m\n\u001b[0;32m      7\u001b[0m \u001b[1;33m\u001b[0m\u001b[0m\n\u001b[0;32m      8\u001b[0m \u001b[0mfig\u001b[0m \u001b[1;33m=\u001b[0m \u001b[0mplt\u001b[0m\u001b[1;33m.\u001b[0m\u001b[0mfigure\u001b[0m\u001b[1;33m(\u001b[0m\u001b[1;33m)\u001b[0m\u001b[1;33m\u001b[0m\u001b[0m\n\u001b[1;32m----> 9\u001b[1;33m \u001b[0max\u001b[0m \u001b[1;33m=\u001b[0m \u001b[0mplt\u001b[0m\u001b[1;33m.\u001b[0m\u001b[0maxes\u001b[0m\u001b[1;33m(\u001b[0m\u001b[0mprojection\u001b[0m\u001b[1;33m=\u001b[0m\u001b[1;34m'3d'\u001b[0m\u001b[1;33m)\u001b[0m\u001b[1;33m\u001b[0m\u001b[0m\n\u001b[0m\u001b[0;32m     10\u001b[0m \u001b[1;33m\u001b[0m\u001b[0m\n\u001b[0;32m     11\u001b[0m \u001b[0max\u001b[0m\u001b[1;33m.\u001b[0m\u001b[0mscatter3d\u001b[0m\u001b[1;33m(\u001b[0m\u001b[0mx\u001b[0m\u001b[1;33m[\u001b[0m\u001b[1;33m:\u001b[0m\u001b[1;33m,\u001b[0m\u001b[1;36m0\u001b[0m\u001b[1;33m]\u001b[0m\u001b[1;33m,\u001b[0m\u001b[0mx\u001b[0m\u001b[1;33m[\u001b[0m\u001b[1;33m:\u001b[0m\u001b[1;33m,\u001b[0m\u001b[1;36m1\u001b[0m\u001b[1;33m]\u001b[0m\u001b[1;33m,\u001b[0m\u001b[0mx\u001b[0m\u001b[1;33m[\u001b[0m\u001b[1;33m:\u001b[0m\u001b[1;33m,\u001b[0m\u001b[1;36m2\u001b[0m\u001b[1;33m]\u001b[0m\u001b[1;33m,\u001b[0m\u001b[0mc\u001b[0m\u001b[1;33m=\u001b[0m\u001b[0mx\u001b[0m\u001b[1;33m[\u001b[0m\u001b[1;33m:\u001b[0m\u001b[1;33m,\u001b[0m\u001b[1;36m2\u001b[0m\u001b[1;33m]\u001b[0m\u001b[1;33m,\u001b[0m\u001b[0mcmap\u001b[0m\u001b[1;33m=\u001b[0m\u001b[1;34m'Greens'\u001b[0m\u001b[1;33m)\u001b[0m\u001b[1;33m\u001b[0m\u001b[0m\n",
      "\u001b[1;32m~\\Anaconda3\\lib\\site-packages\\matplotlib\\pyplot.py\u001b[0m in \u001b[0;36maxes\u001b[1;34m(arg, **kwargs)\u001b[0m\n\u001b[0;32m    924\u001b[0m \u001b[1;33m\u001b[0m\u001b[0m\n\u001b[0;32m    925\u001b[0m     \u001b[1;32mif\u001b[0m \u001b[0marg\u001b[0m \u001b[1;32mis\u001b[0m \u001b[1;32mNone\u001b[0m\u001b[1;33m:\u001b[0m\u001b[1;33m\u001b[0m\u001b[0m\n\u001b[1;32m--> 926\u001b[1;33m         \u001b[1;32mreturn\u001b[0m \u001b[0msubplot\u001b[0m\u001b[1;33m(\u001b[0m\u001b[1;36m111\u001b[0m\u001b[1;33m,\u001b[0m \u001b[1;33m**\u001b[0m\u001b[0mkwargs\u001b[0m\u001b[1;33m)\u001b[0m\u001b[1;33m\u001b[0m\u001b[0m\n\u001b[0m\u001b[0;32m    927\u001b[0m \u001b[1;33m\u001b[0m\u001b[0m\n\u001b[0;32m    928\u001b[0m     \u001b[1;32mif\u001b[0m \u001b[0misinstance\u001b[0m\u001b[1;33m(\u001b[0m\u001b[0marg\u001b[0m\u001b[1;33m,\u001b[0m \u001b[0mAxes\u001b[0m\u001b[1;33m)\u001b[0m\u001b[1;33m:\u001b[0m\u001b[1;33m\u001b[0m\u001b[0m\n",
      "\u001b[1;32m~\\Anaconda3\\lib\\site-packages\\matplotlib\\pyplot.py\u001b[0m in \u001b[0;36msubplot\u001b[1;34m(*args, **kwargs)\u001b[0m\n\u001b[0;32m   1070\u001b[0m \u001b[1;33m\u001b[0m\u001b[0m\n\u001b[0;32m   1071\u001b[0m     \u001b[0mfig\u001b[0m \u001b[1;33m=\u001b[0m \u001b[0mgcf\u001b[0m\u001b[1;33m(\u001b[0m\u001b[1;33m)\u001b[0m\u001b[1;33m\u001b[0m\u001b[0m\n\u001b[1;32m-> 1072\u001b[1;33m     \u001b[0ma\u001b[0m \u001b[1;33m=\u001b[0m \u001b[0mfig\u001b[0m\u001b[1;33m.\u001b[0m\u001b[0madd_subplot\u001b[0m\u001b[1;33m(\u001b[0m\u001b[1;33m*\u001b[0m\u001b[0margs\u001b[0m\u001b[1;33m,\u001b[0m \u001b[1;33m**\u001b[0m\u001b[0mkwargs\u001b[0m\u001b[1;33m)\u001b[0m\u001b[1;33m\u001b[0m\u001b[0m\n\u001b[0m\u001b[0;32m   1073\u001b[0m     \u001b[0mbbox\u001b[0m \u001b[1;33m=\u001b[0m \u001b[0ma\u001b[0m\u001b[1;33m.\u001b[0m\u001b[0mbbox\u001b[0m\u001b[1;33m\u001b[0m\u001b[0m\n\u001b[0;32m   1074\u001b[0m     \u001b[0mbyebye\u001b[0m \u001b[1;33m=\u001b[0m \u001b[1;33m[\u001b[0m\u001b[1;33m]\u001b[0m\u001b[1;33m\u001b[0m\u001b[0m\n",
      "\u001b[1;32m~\\Anaconda3\\lib\\site-packages\\matplotlib\\figure.py\u001b[0m in \u001b[0;36madd_subplot\u001b[1;34m(self, *args, **kwargs)\u001b[0m\n\u001b[0;32m   1219\u001b[0m         \u001b[1;32melse\u001b[0m\u001b[1;33m:\u001b[0m\u001b[1;33m\u001b[0m\u001b[0m\n\u001b[0;32m   1220\u001b[0m             projection_class, kwargs, key = process_projection_requirements(\n\u001b[1;32m-> 1221\u001b[1;33m                 self, *args, **kwargs)\n\u001b[0m\u001b[0;32m   1222\u001b[0m \u001b[1;33m\u001b[0m\u001b[0m\n\u001b[0;32m   1223\u001b[0m             \u001b[1;31m# try to find the axes with this key in the stack\u001b[0m\u001b[1;33m\u001b[0m\u001b[1;33m\u001b[0m\u001b[0m\n",
      "\u001b[1;32m~\\Anaconda3\\lib\\site-packages\\matplotlib\\projections\\__init__.py\u001b[0m in \u001b[0;36mprocess_projection_requirements\u001b[1;34m(figure, *args, **kwargs)\u001b[0m\n\u001b[0;32m     89\u001b[0m \u001b[1;33m\u001b[0m\u001b[0m\n\u001b[0;32m     90\u001b[0m     \u001b[1;32mif\u001b[0m \u001b[0misinstance\u001b[0m\u001b[1;33m(\u001b[0m\u001b[0mprojection\u001b[0m\u001b[1;33m,\u001b[0m \u001b[0msix\u001b[0m\u001b[1;33m.\u001b[0m\u001b[0mstring_types\u001b[0m\u001b[1;33m)\u001b[0m \u001b[1;32mor\u001b[0m \u001b[0mprojection\u001b[0m \u001b[1;32mis\u001b[0m \u001b[1;32mNone\u001b[0m\u001b[1;33m:\u001b[0m\u001b[1;33m\u001b[0m\u001b[0m\n\u001b[1;32m---> 91\u001b[1;33m         \u001b[0mprojection_class\u001b[0m \u001b[1;33m=\u001b[0m \u001b[0mget_projection_class\u001b[0m\u001b[1;33m(\u001b[0m\u001b[0mprojection\u001b[0m\u001b[1;33m)\u001b[0m\u001b[1;33m\u001b[0m\u001b[0m\n\u001b[0m\u001b[0;32m     92\u001b[0m     \u001b[1;32melif\u001b[0m \u001b[0mhasattr\u001b[0m\u001b[1;33m(\u001b[0m\u001b[0mprojection\u001b[0m\u001b[1;33m,\u001b[0m \u001b[1;34m'_as_mpl_axes'\u001b[0m\u001b[1;33m)\u001b[0m\u001b[1;33m:\u001b[0m\u001b[1;33m\u001b[0m\u001b[0m\n\u001b[0;32m     93\u001b[0m         \u001b[0mprojection_class\u001b[0m\u001b[1;33m,\u001b[0m \u001b[0mextra_kwargs\u001b[0m \u001b[1;33m=\u001b[0m \u001b[0mprojection\u001b[0m\u001b[1;33m.\u001b[0m\u001b[0m_as_mpl_axes\u001b[0m\u001b[1;33m(\u001b[0m\u001b[1;33m)\u001b[0m\u001b[1;33m\u001b[0m\u001b[0m\n",
      "\u001b[1;32m~\\Anaconda3\\lib\\site-packages\\matplotlib\\projections\\__init__.py\u001b[0m in \u001b[0;36mget_projection_class\u001b[1;34m(projection)\u001b[0m\n\u001b[0;32m     63\u001b[0m         \u001b[1;32mreturn\u001b[0m \u001b[0mprojection_registry\u001b[0m\u001b[1;33m.\u001b[0m\u001b[0mget_projection_class\u001b[0m\u001b[1;33m(\u001b[0m\u001b[0mprojection\u001b[0m\u001b[1;33m)\u001b[0m\u001b[1;33m\u001b[0m\u001b[0m\n\u001b[0;32m     64\u001b[0m     \u001b[1;32mexcept\u001b[0m \u001b[0mKeyError\u001b[0m\u001b[1;33m:\u001b[0m\u001b[1;33m\u001b[0m\u001b[0m\n\u001b[1;32m---> 65\u001b[1;33m         \u001b[1;32mraise\u001b[0m \u001b[0mValueError\u001b[0m\u001b[1;33m(\u001b[0m\u001b[1;34m\"Unknown projection '%s'\"\u001b[0m \u001b[1;33m%\u001b[0m \u001b[0mprojection\u001b[0m\u001b[1;33m)\u001b[0m\u001b[1;33m\u001b[0m\u001b[0m\n\u001b[0m\u001b[0;32m     66\u001b[0m \u001b[1;33m\u001b[0m\u001b[0m\n\u001b[0;32m     67\u001b[0m \u001b[1;33m\u001b[0m\u001b[0m\n",
      "\u001b[1;31mValueError\u001b[0m: Unknown projection '3d'"
     ]
    },
    {
     "data": {
      "text/plain": [
       "<Figure size 432x288 with 0 Axes>"
      ]
     },
     "metadata": {},
     "output_type": "display_data"
    }
   ],
   "source": [
    "import matplotlib\n",
    "import matplotlib.pyplot as plt\n",
    "from mpl_toolkits.mplot3d import Axes3D\n",
    "\n",
    "x = np.array([[1,2,3], [4,5,6], [7,8,9], [10,11,12]])\n",
    "y = np.array([[13,14,15], [16,17,18], [19,20,21]])\n",
    "\n",
    "\n",
    "fig = plt.figure()\n",
    "ax = plt.axes(projection='3d')\n",
    "\n",
    "ax.scatter3d(x[:,0],x[:,1],x[:,2],c=x[:,2],cmap='Greens')"
   ]
  },
  {
   "cell_type": "code",
   "execution_count": 5,
   "metadata": {},
   "outputs": [
    {
     "data": {
      "text/plain": [
       "nan"
      ]
     },
     "execution_count": 5,
     "metadata": {},
     "output_type": "execute_result"
    }
   ],
   "source": [
    "np.linalg.norm([1, float('nan'), 2])"
   ]
  },
  {
   "cell_type": "markdown",
   "metadata": {
    "deletable": false,
    "editable": false,
    "nbgrader": {
     "checksum": "24107804275f76ac203337d08957da69",
     "grade": false,
     "grade_id": "1_b",
     "locked": true,
     "schema_version": 1,
     "solution": false
    }
   },
   "source": [
    "Now implement the $d_{mean}$ and $d_{centroid}$ distance from the lecture. Each function expects two clusters each represented by a 2-dimensional numpy array, where the number of columns $n$ reflects the dimensionality of the data space and has to agree for both clusters, while the number of rows $mx$ and $my$ can vary from cluster to cluster. The return value is the respective distance."
   ]
  },
  {
   "cell_type": "code",
   "execution_count": 6,
   "metadata": {
    "deletable": false,
    "nbgrader": {
     "checksum": "621551a9f7eeaebeeab71d2dd497e78d",
     "grade": true,
     "grade_id": "1_b_code",
     "locked": false,
     "points": 1,
     "schema_version": 1,
     "solution": true
    }
   },
   "outputs": [
    {
     "name": "stdout",
     "output_type": "stream",
     "text": [
      "[[20.78460969 15.58845727 10.39230485]\n",
      " [25.98076211 20.78460969 15.58845727]\n",
      " [31.17691454 25.98076211 20.78460969]\n",
      " [43.23193264 40.32369031 37.90778284]\n",
      " [10.77032961  7.68114575  7.48331477]]\n",
      "[[20.78460969 15.58845727 10.39230485]\n",
      " [25.98076211 20.78460969 15.58845727]\n",
      " [31.17691454 25.98076211 20.78460969]\n",
      " [43.23193264 40.32369031 37.90778284]\n",
      " [10.77032961  7.68114575  7.48331477]]\n",
      "[[20.78460969 15.58845727 10.39230485]\n",
      " [25.98076211 20.78460969 15.58845727]\n",
      " [31.17691454 25.98076211 20.78460969]\n",
      " [43.23193264 40.32369031 37.90778284]\n",
      " [10.77032961  7.68114575  7.48331477]]\n"
     ]
    }
   ],
   "source": [
    "def d_mean(cluster1, cluster2):\n",
    "    \"\"\"\n",
    "    Mean distance between points of two clusters.\n",
    "   \n",
    "    Args:\n",
    "        cluster1 (ndarray): Points belonging to cluster 1 of shape (num_points, num_dimensions).\n",
    "        clusterd (ndarray): Points belonging to cluster 1 of shape (num_points, num_dimensions).\n",
    "    \n",
    "    Returns:\n",
    "        float: The mean distance between the points in the two clusters.\n",
    "    \"\"\"\n",
    "    # YOUR CODE HERE\n",
    "    \n",
    "    return np.mean(pdist2(cluster1,cluster2)) if np.shape(cluster1)[0] >= np.shape(cluster2)[0] else np.mean(pdist2(cluster2,cluster1))\n",
    "\n",
    "x = np.array([[1,2,3], [4,5,6], [7,8,9]])\n",
    "y = np.array([[13,14,15], [16,17,18], [19,20,21], [5,45,1], [1,12,7]])\n",
    "\n",
    "assert np.round(d_mean(x, y), 3) == 22.297, \"Result is not correct: {}\".format(d_mean(x, y))\n",
    "assert d_mean(x, y) == d_mean(y, x), \"X,Y is not equal to Y,X: {} != {}\".format(d_mean(x, y), d_mean(y, x))"
   ]
  },
  {
   "cell_type": "code",
   "execution_count": 156,
   "metadata": {
    "deletable": false,
    "nbgrader": {
     "checksum": "d17a5b3d119e7c127988df3937e9908c",
     "grade": true,
     "grade_id": "1_c_code",
     "locked": false,
     "points": 1,
     "schema_version": 1,
     "solution": true
    }
   },
   "outputs": [
    {
     "name": "stdout",
     "output_type": "stream",
     "text": [
      "[[20.78460969 25.98076211 31.17691454]\n",
      " [15.58845727 20.78460969 25.98076211]\n",
      " [10.39230485 15.58845727 20.78460969]]\n",
      "[[  4.         100.04498988]\n",
      " [100.04498988   2.        ]\n",
      " [100.04498988 200.00999975]\n",
      " [ 20.22374842 120.01666551]]\n",
      "[[  4.         100.04498988]\n",
      " [100.04498988   2.        ]\n",
      " [100.04498988 200.00999975]\n",
      " [ 20.22374842 120.01666551]]\n"
     ]
    },
    {
     "ename": "AssertionError",
     "evalue": "Result is not correct: 80.79817291428128",
     "output_type": "error",
     "traceback": [
      "\u001b[1;31m---------------------------------------------------------------------------\u001b[0m",
      "\u001b[1;31mAssertionError\u001b[0m                            Traceback (most recent call last)",
      "\u001b[1;32m<ipython-input-156-a8d5f4593267>\u001b[0m in \u001b[0;36m<module>\u001b[1;34m()\u001b[0m\n\u001b[0;32m     22\u001b[0m \u001b[1;33m\u001b[0m\u001b[0m\n\u001b[0;32m     23\u001b[0m \u001b[1;32massert\u001b[0m \u001b[0mnp\u001b[0m\u001b[1;33m.\u001b[0m\u001b[0mround\u001b[0m\u001b[1;33m(\u001b[0m\u001b[0md_centroid\u001b[0m\u001b[1;33m(\u001b[0m\u001b[0mx\u001b[0m\u001b[1;33m,\u001b[0m \u001b[0my\u001b[0m\u001b[1;33m)\u001b[0m\u001b[1;33m,\u001b[0m \u001b[1;36m3\u001b[0m\u001b[1;33m)\u001b[0m \u001b[1;33m==\u001b[0m \u001b[1;36m20.785\u001b[0m\u001b[1;33m,\u001b[0m \u001b[1;34m\"Result is not correct: {}\"\u001b[0m\u001b[1;33m.\u001b[0m\u001b[0mformat\u001b[0m\u001b[1;33m(\u001b[0m\u001b[0md_centroid\u001b[0m\u001b[1;33m(\u001b[0m\u001b[0mx\u001b[0m\u001b[1;33m,\u001b[0m \u001b[0my\u001b[0m\u001b[1;33m)\u001b[0m\u001b[1;33m)\u001b[0m\u001b[1;33m\u001b[0m\u001b[0m\n\u001b[1;32m---> 24\u001b[1;33m \u001b[1;32massert\u001b[0m \u001b[0mnp\u001b[0m\u001b[1;33m.\u001b[0m\u001b[0mround\u001b[0m\u001b[1;33m(\u001b[0m\u001b[0md_centroid\u001b[0m\u001b[1;33m(\u001b[0m\u001b[0mz\u001b[0m\u001b[1;33m,\u001b[0m \u001b[0mw\u001b[0m\u001b[1;33m)\u001b[0m\u001b[1;33m,\u001b[0m \u001b[1;36m3\u001b[0m\u001b[1;33m)\u001b[0m \u001b[1;33m==\u001b[0m \u001b[1;36m55.069\u001b[0m\u001b[1;33m,\u001b[0m \u001b[1;34m\"Result is not correct: {}\"\u001b[0m\u001b[1;33m.\u001b[0m\u001b[0mformat\u001b[0m\u001b[1;33m(\u001b[0m\u001b[0md_centroid\u001b[0m\u001b[1;33m(\u001b[0m\u001b[0mz\u001b[0m\u001b[1;33m,\u001b[0m \u001b[0mw\u001b[0m\u001b[1;33m)\u001b[0m\u001b[1;33m)\u001b[0m\u001b[1;33m\u001b[0m\u001b[0m\n\u001b[0m\u001b[0;32m     25\u001b[0m \u001b[1;32massert\u001b[0m \u001b[0md_centroid\u001b[0m\u001b[1;33m(\u001b[0m\u001b[0mx\u001b[0m\u001b[1;33m,\u001b[0m \u001b[0my\u001b[0m\u001b[1;33m)\u001b[0m \u001b[1;33m==\u001b[0m \u001b[0md_centroid\u001b[0m\u001b[1;33m(\u001b[0m\u001b[0my\u001b[0m\u001b[1;33m,\u001b[0m \u001b[0mx\u001b[0m\u001b[1;33m)\u001b[0m\u001b[1;33m,\u001b[0m \u001b[1;34m\"X,Y is not equal to Y,X: {} != {}\"\u001b[0m\u001b[1;33m.\u001b[0m\u001b[0mformat\u001b[0m\u001b[1;33m(\u001b[0m\u001b[0md_centroid\u001b[0m\u001b[1;33m(\u001b[0m\u001b[0mx\u001b[0m\u001b[1;33m,\u001b[0m \u001b[0my\u001b[0m\u001b[1;33m)\u001b[0m\u001b[1;33m,\u001b[0m \u001b[0md_centroid\u001b[0m\u001b[1;33m(\u001b[0m\u001b[0my\u001b[0m\u001b[1;33m,\u001b[0m \u001b[0mx\u001b[0m\u001b[1;33m)\u001b[0m\u001b[1;33m)\u001b[0m\u001b[1;33m\u001b[0m\u001b[0m\n",
      "\u001b[1;31mAssertionError\u001b[0m: Result is not correct: 80.79817291428128"
     ]
    }
   ],
   "source": [
    "def d_centroid(cluster1, cluster2):\n",
    "    \"\"\"\n",
    "    Calculate the distance between the centroids of two clusters.\n",
    "    \n",
    "    Args:\n",
    "        cluster1 (ndarray): Points belonging to cluster 1 of shape (num_points, num_dimensions).\n",
    "        clusterd (ndarray): Points belonging to cluster 1 of shape (num_points, num_dimensions).\n",
    "    \n",
    "    Returns:\n",
    "        float: The distance between the centroids of two clusters.\n",
    "    \"\"\"\n",
    "    # YOUR CODE HERE\n",
    "    #return np.mean(pdist2(cluster1,cluster2))\n",
    "    return np.mean(pdist2(cluster1,cluster2)) if np.shape(cluster1)[0] >= np.shape(cluster2)[0] else np.mean(pdist2(cluster2,cluster1))\n",
    "\n",
    "    \n",
    "    \n",
    "x = np.array([[1,2,3], [4,5,6], [7,8,9]])\n",
    "y = np.array([[13,14,15], [16,17,18], [19,20,21]])\n",
    "z = np.array([[-2,0], [-1,100]])\n",
    "w = np.array([[2,0], [1,100], [1,-100], [1,-20]])\n",
    "\n",
    "assert np.round(d_centroid(x, y), 3) == 20.785, \"Result is not correct: {}\".format(d_centroid(x, y))\n",
    "assert np.round(d_centroid(z, w), 3) == 55.069, \"Result is not correct: {}\".format(d_centroid(z, w))\n",
    "assert d_centroid(x, y) == d_centroid(y, x), \"X,Y is not equal to Y,X: {} != {}\".format(d_centroid(x, y), d_centroid(y, x)) "
   ]
  },
  {
   "cell_type": "markdown",
   "metadata": {
    "deletable": false,
    "editable": false,
    "nbgrader": {
     "checksum": "2343f732d29cc5c63e5c640a93f917bf",
     "grade": false,
     "grade_id": "2",
     "locked": true,
     "schema_version": 1,
     "solution": false
    }
   },
   "source": [
    "## Assignment 2: Hierarchical Clustering [2 Points]\n",
    "\n",
    "In the following you find implementations for single- and complete-linkage clustering. *This implementation relies on the distance functions you wrote in Assignment 1 (if you get stuck on the first exercise write an email to the tutors and we will help you along).* Take a look at the code (this might also help if you get stuck on assignment 3) and answer the question posted below. You may of course change parameters and try it out on different datasets (`points.txt` & `clusterData.txt` are provided).\n",
    "\n",
    "Note that for performance reasons the code differs from the lecture's pseudocode (ML-05 Slide 8), but in general it does the same."
   ]
  },
  {
   "cell_type": "code",
   "execution_count": 110,
   "metadata": {},
   "outputs": [],
   "source": [
    "def linkage(data, k=5, complete=False):\n",
    "    \"\"\"\n",
    "    Runs single or complete linkage clustering.\n",
    "    \n",
    "    Args:\n",
    "        data (ndarray): Data points to be clustered in an array with shape (num_points, 2).\n",
    "        k (int): Number of clusters.\n",
    "        complete (bool): Whether to run complete linkage clustering.\n",
    "        \n",
    "    Returns:\n",
    "        ndarray: The cluster labels for each data point. Shape is (num_points).\n",
    "    \"\"\"\n",
    "    # Initially all points are their own cluster.\n",
    "    labels = np.arange(len(data))\n",
    "\n",
    "    # Calculate distance between all points.\n",
    "    # Also removing half of the matrix because \n",
    "    # its symmetrical along the diagonal.\n",
    "    dst = np.tril(pdist2(data, data))\n",
    "\n",
    "    while len(set(labels)) > k:\n",
    "        # Get the lowest distance of two points which\n",
    "        # do not have the same label.\n",
    "        r, c = np.where(dst == np.min(dst[dst > 0]))\n",
    "        \n",
    "        # Ignore the case when there are multiple with\n",
    "        # equally smallest distance.\n",
    "        r = r[0]\n",
    "        c = c[0]\n",
    "\n",
    "        # The two points are now in the same cluster,\n",
    "        # so they have a distance of 0 now.\n",
    "        dst[r, c] = 0\n",
    "\n",
    "        # Make the two clusters have the same label.\n",
    "        labels[labels == labels[r]] = labels[c]\n",
    "\n",
    "        # Check if we want to do complete linkage clustering.\n",
    "        if complete:\n",
    "            # Update the distances of the points which are not in the same cluster.\n",
    "            for i in np.nonzero(dst[r, :] > 0)[0]:\n",
    "                dst[r, i] = np.max(pdist2(data[i, None], data[labels == labels[r], :]))\n",
    "\n",
    "            # The distances to c are now the same as to r, so we can just\n",
    "            # set them to zero - would be duplicates otherwise.\n",
    "            dst[:, c] = 0\n",
    "\n",
    "    return labels"
   ]
  },
  {
   "cell_type": "code",
   "execution_count": 122,
   "metadata": {},
   "outputs": [
    {
     "name": "stdout",
     "output_type": "stream",
     "text": [
      "[ 10  48  62 107 118]\n"
     ]
    },
    {
     "data": {
      "image/png": "[encoded data removed]",
      "text/plain": [
       "<Figure size 432x288 with 1 Axes>"
      ]
     },
     "metadata": {},
     "output_type": "display_data"
    },
    {
     "data": {
      "image/png": "[encoded data removed]",
      "text/plain": [
       "<Figure size 432x288 with 1 Axes>"
      ]
     },
     "metadata": {},
     "output_type": "display_data"
    },
    {
     "data": {
      "image/png": "[encoded data removed]",
      "text/plain": [
       "<Figure size 432x288 with 1 Axes>"
      ]
     },
     "metadata": {},
     "output_type": "display_data"
    }
   ],
   "source": [
    "%matplotlib inline\n",
    "import numpy as np\n",
    "import matplotlib.pyplot as plt\n",
    "\n",
    "# Read the data.\n",
    "data = np.loadtxt('points.txt')\n",
    "\n",
    "# Show unprocessed data set.\n",
    "fig_cluster = plt.figure()\n",
    "plt.scatter(data[:, 0], data[:, 1])\n",
    "plt.title('Unprocessed Cluster Data')\n",
    "fig_cluster.canvas.draw()\n",
    "\n",
    "# Apply Single Linkage Clustering\n",
    "labels = linkage(data, k=5, complete=False)\n",
    "fig_single = plt.figure()\n",
    "plt.scatter(data[:, 0], data[:, 1], c=labels)\n",
    "plt.title('Single-linkage Clustering with k=5')\n",
    "fig_single.canvas.draw()\n",
    "\n",
    "print(np.unique(labels))\n",
    "\n",
    "# Apply Complete Linkage Clustering\n",
    "labels = linkage(data, k=5, complete=True)\n",
    "fig_complete = plt.figure()\n",
    "plt.scatter(data[:, 0], data[:, 1], c=labels)\n",
    "plt.title('Complete-linkage Clustering with k=5')\n",
    "fig_complete.canvas.draw()"
   ]
  },
  {
   "cell_type": "markdown",
   "metadata": {
    "deletable": false,
    "editable": false,
    "nbgrader": {
     "checksum": "44235bcbef2dfbd67299026aa67784f0",
     "grade": false,
     "grade_id": "2_question",
     "locked": true,
     "schema_version": 1,
     "solution": false
    }
   },
   "source": [
    "What is the difference between single- and complete-linkage clustering and which is the better solution given the dataset?"
   ]
  },
  {
   "cell_type": "markdown",
   "metadata": {
    "deletable": false,
    "nbgrader": {
     "checksum": "42148b169d77d5c2b5a40dab20fbe0bf",
     "grade": true,
     "grade_id": "2_answer",
     "locked": false,
     "points": 2,
     "schema_version": 1,
     "solution": true
    }
   },
   "source": [
    "Single-linkage clustering takes the minimum distance between to points in to clusters as the similarity for the clusters, where complete-linkaged takes the maimum. \n",
    "\n",
    "Complete-linkage clustering builds cluster that are more evenly sized and deals better with the noise(The single points betwenn the larger groups), which has to be preferred."
   ]
  },
  {
   "cell_type": "markdown",
   "metadata": {
    "deletable": false,
    "editable": false,
    "nbgrader": {
     "checksum": "96e4c34ecde86764c9dfacbe9e8c02ba",
     "grade": false,
     "grade_id": "3",
     "locked": true,
     "schema_version": 1,
     "solution": false
    }
   },
   "source": [
    "## Assignment 3: k-means Clustering [8 Points]\n",
    "\n",
    "### a) Implement k-means clustering. Plot the results for $k = 7$ and $k = 3$ in colorful scatter plots.\n",
    "\n",
    "How could one handle situations when one or more clusters end up containing 0 elements?"
   ]
  },
  {
   "cell_type": "code",
   "execution_count": 195,
   "metadata": {
    "deletable": false,
    "nbgrader": {
     "checksum": "3f5d38efc70cfec8d147967407aa4621",
     "grade": true,
     "grade_id": "3_code",
     "locked": false,
     "points": 8,
     "schema_version": 1,
     "solution": true
    }
   },
   "outputs": [],
   "source": [
    "def kmeans(data, k=3):\n",
    "    \"\"\"\n",
    "    Applies kmeans clustering to the data using k initial clusters.\n",
    "    data is expected to be a numpy array of size n*2, \n",
    "    n being the amount of observations in the data. This function returns\n",
    "    the centroids and the labels for the clusters data (1,1,3,5,5,5,...)\n",
    "    \"\"\"\n",
    "    # YOUR CODE HERE\n",
    "    meansCurr = np.array([data[np.random.randint(0,np.shape(data)[0],k)[:]]])\n",
    "    labels = [min([data[i]-meansCurr[j] for j in range(0,np.shape(meansCurr)[0])) for i in range(0,np.shape(data)[0])]\n",
    "    \n",
    "    \n",
    "    return labels, centroids"
   ]
  },
  {
   "cell_type": "code",
   "execution_count": 196,
   "metadata": {},
   "outputs": [
    {
     "name": "stdout",
     "output_type": "stream",
     "text": [
      "[[[32.8   4.8 ]\n",
      "  [23.95  9.8 ]\n",
      "  [22.3  22.8 ]]]\n",
      "(788, 2)\n"
     ]
    },
    {
     "ename": "NameError",
     "evalue": "name 'centroids' is not defined",
     "output_type": "error",
     "traceback": [
      "\u001b[1;31m---------------------------------------------------------------------------\u001b[0m",
      "\u001b[1;31mNameError\u001b[0m                                 Traceback (most recent call last)",
      "\u001b[1;32m<ipython-input-196-f6cded06625c>\u001b[0m in \u001b[0;36m<module>\u001b[1;34m()\u001b[0m\n\u001b[0;32m      2\u001b[0m \u001b[1;33m\u001b[0m\u001b[0m\n\u001b[0;32m      3\u001b[0m \u001b[1;32mfor\u001b[0m \u001b[0mk\u001b[0m \u001b[1;32min\u001b[0m \u001b[1;33m[\u001b[0m\u001b[1;36m3\u001b[0m\u001b[1;33m,\u001b[0m \u001b[1;36m7\u001b[0m\u001b[1;33m]\u001b[0m\u001b[1;33m:\u001b[0m\u001b[1;33m\u001b[0m\u001b[0m\n\u001b[1;32m----> 4\u001b[1;33m     \u001b[0mlabels\u001b[0m\u001b[1;33m,\u001b[0m \u001b[0mcentroids\u001b[0m \u001b[1;33m=\u001b[0m \u001b[0mkmeans\u001b[0m\u001b[1;33m(\u001b[0m\u001b[0mdata\u001b[0m\u001b[1;33m,\u001b[0m \u001b[0mk\u001b[0m\u001b[1;33m)\u001b[0m\u001b[1;33m\u001b[0m\u001b[0m\n\u001b[0m\u001b[0;32m      5\u001b[0m \u001b[1;33m\u001b[0m\u001b[0m\n\u001b[0;32m      6\u001b[0m     \u001b[0mkmeans_fig\u001b[0m \u001b[1;33m=\u001b[0m \u001b[0mplt\u001b[0m\u001b[1;33m.\u001b[0m\u001b[0mfigure\u001b[0m\u001b[1;33m(\u001b[0m\u001b[1;34m'k-means with k={}'\u001b[0m\u001b[1;33m.\u001b[0m\u001b[0mformat\u001b[0m\u001b[1;33m(\u001b[0m\u001b[0mk\u001b[0m\u001b[1;33m)\u001b[0m\u001b[1;33m)\u001b[0m\u001b[1;33m\u001b[0m\u001b[0m\n",
      "\u001b[1;32m<ipython-input-195-1d46176bf8e2>\u001b[0m in \u001b[0;36mkmeans\u001b[1;34m(data, k)\u001b[0m\n\u001b[0;32m     13\u001b[0m \u001b[1;33m\u001b[0m\u001b[0m\n\u001b[0;32m     14\u001b[0m \u001b[1;33m\u001b[0m\u001b[0m\n\u001b[1;32m---> 15\u001b[1;33m     \u001b[1;32mreturn\u001b[0m \u001b[0mlabels\u001b[0m\u001b[1;33m,\u001b[0m \u001b[0mcentroids\u001b[0m\u001b[1;33m\u001b[0m\u001b[0m\n\u001b[0m",
      "\u001b[1;31mNameError\u001b[0m: name 'centroids' is not defined"
     ]
    }
   ],
   "source": [
    "data = np.loadtxt('clusterData.txt')\n",
    "\n",
    "for k in [3, 7]:\n",
    "    labels, centroids = kmeans(data, k)\n",
    "\n",
    "    kmeans_fig = plt.figure('k-means with k={}'.format(k))\n",
    "    plt.scatter(data[:,0], data[:,1], c=labels)\n",
    "    plt.scatter(centroids[:,0], centroids[:,1], \n",
    "                c=list(set(labels)), alpha=.1, marker='o',\n",
    "                s=np.array([len(labels[labels==label]) for label in set(labels)])*100)\n",
    "    plt.title('k = '+str(k))\n",
    "    kmeans_fig.canvas.draw()"
   ]
  },
  {
   "cell_type": "markdown",
   "metadata": {},
   "source": [
    "### b) Why might the clustering for k=7 not look optimal? "
   ]
  },
  {
   "cell_type": "code",
   "execution_count": null,
   "metadata": {},
   "outputs": [],
   "source": [
    "# YOUR ANSWER HERE"
   ]
  },
  {
   "cell_type": "markdown",
   "metadata": {
    "deletable": false,
    "editable": false,
    "nbgrader": {
     "checksum": "f05914f5d5d7dc6a55bfb255bc3e3d44",
     "grade": false,
     "grade_id": "cell-26f189cc4f9865c1",
     "locked": true,
     "schema_version": 1,
     "solution": false
    }
   },
   "source": [
    "## Assignment 4: Covariance and autocorrelation matrix [6 Points]"
   ]
  },
  {
   "cell_type": "markdown",
   "metadata": {
    "deletable": false,
    "editable": false,
    "nbgrader": {
     "checksum": "ab849b545b9f75a9d33a839eed013e6f",
     "grade": false,
     "grade_id": "cell-b2aebe0aabf8db03",
     "locked": true,
     "schema_version": 1,
     "solution": false
    }
   },
   "source": [
    "**a)** What is the covariance matrix? What do the different entries of the matrix mean? "
   ]
  },
  {
   "cell_type": "markdown",
   "metadata": {
    "deletable": false,
    "nbgrader": {
     "checksum": "7e38327010723cbbf66fd5dc57ad3d4e",
     "grade": true,
     "grade_id": "cell-bd9c31f2e24eac43",
     "locked": false,
     "points": 1,
     "schema_version": 1,
     "solution": true
    }
   },
   "source": [
    "YOUR ANSWER HERE"
   ]
  },
  {
   "cell_type": "markdown",
   "metadata": {
    "deletable": false,
    "editable": false,
    "nbgrader": {
     "checksum": "ed6ca599372102f51d37c5a6a37fa48f",
     "grade": false,
     "grade_id": "cell-567b831bb3eb84cd",
     "locked": true,
     "schema_version": 1,
     "solution": false
    }
   },
   "source": [
    "**b)** What can the covariance matrix be used for? Name at least two applications."
   ]
  },
  {
   "cell_type": "markdown",
   "metadata": {
    "deletable": false,
    "nbgrader": {
     "checksum": "3920ef158eef07c2fa413712f2345bf3",
     "grade": true,
     "grade_id": "cell-8594d318796af945",
     "locked": false,
     "points": 1,
     "schema_version": 1,
     "solution": true
    }
   },
   "source": [
    "YOUR ANSWER HERE"
   ]
  },
  {
   "cell_type": "markdown",
   "metadata": {
    "deletable": false,
    "editable": false,
    "nbgrader": {
     "checksum": "66c77687b8c6ddf43a54df0379d15b67",
     "grade": false,
     "grade_id": "cell-6ebef2c8d8ea9ef8",
     "locked": true,
     "schema_version": 1,
     "solution": false
    }
   },
   "source": [
    "**c)** Execute the next cell. You can see three data sets. Which of the three covariance matrices below belongs to which plot?"
   ]
  },
  {
   "cell_type": "code",
   "execution_count": 146,
   "metadata": {
    "deletable": false,
    "editable": false,
    "nbgrader": {
     "checksum": "758469370011aae11cf39c1e493476b4",
     "grade": false,
     "grade_id": "cell-16f29c1eaf43f3d7",
     "locked": true,
     "schema_version": 1,
     "solution": false
    }
   },
   "outputs": [
    {
     "data": {
      "image/png": "[encoded data removed]",
      "text/plain": [
       "<Figure size 1440x360 with 3 Axes>"
      ]
     },
     "metadata": {},
     "output_type": "display_data"
    }
   ],
   "source": [
    "%matplotlib inline\n",
    "import numpy as np\n",
    "import matplotlib.pyplot as plt\n",
    "\n",
    "plt.figure(figsize = (20,5))\n",
    "factors = [0.5,1,0]\n",
    "names = [\"a\", \"b\", \"c\"]\n",
    "datasets = []\n",
    "for i, factor in enumerate(factors):\n",
    "    x = np.array(np.arange(100).tolist() + np.arange(100).tolist())\n",
    "    if factor!=0:\n",
    "        y = x * factor + (np.random.rand(len(x))-0.5)*30\n",
    "    else:\n",
    "        y = np.array([50 for _ in range(len(x))]) + (np.random.rand(len(x))-0.5)*30\n",
    "    plt.subplot(1,len(factors),i+1)\n",
    "    plt.scatter(x,y)\n",
    "    plt.title(\"Dataset \"+names[i], fontsize = 30)\n",
    "    plt.xlabel(\"x\", fontsize = 20)\n",
    "    plt.ylabel(\"y\", fontsize = 20)\n",
    "    plt.ylim(0, 100)\n",
    "    plt.xlim(0, 100)\n",
    "    datasets.append(np.stack([x, y], axis = 1))\n",
    "plt.show()"
   ]
  },
  {
   "cell_type": "markdown",
   "metadata": {
    "deletable": false,
    "editable": false,
    "nbgrader": {
     "checksum": "d22b9f00c123d79f113c8a61bd73640a",
     "grade": false,
     "grade_id": "cell-5d81f7209716d42a",
     "locked": true,
     "schema_version": 1,
     "solution": false
    }
   },
   "source": [
    "**Covariance matrix I:**\n",
    "\n",
    "| C1    |  x  |  y  |\n",
    "|-------|-----|-----|\n",
    "| **x** | 837 | 877 |\n",
    "| **y** | 877 | 989 |\n",
    "\n",
    "**Covariance matrix II:**\n",
    "\n",
    " | C2 | x | y |\n",
    " | ---|---|---|\n",
    " |   **x** |  837 | 1  |\n",
    " |   **y**| 1  |  66 |\n",
    "\n",
    "\n",
    "**Covariance matrix III:**\n",
    "\n",
    "| C3 | x | y |\n",
    "| ---|---|---|\n",
    "|   **x** |  837 | 453  |\n",
    "|   **y**| 453  |  318 |\n"
   ]
  },
  {
   "cell_type": "markdown",
   "metadata": {
    "deletable": false,
    "nbgrader": {
     "checksum": "bf45462c85c6d9081616a70c6b5cac34",
     "grade": true,
     "grade_id": "cell-cedc2d0ce28f6b8d",
     "locked": false,
     "points": 1,
     "schema_version": 1,
     "solution": true
    }
   },
   "source": [
    "YOUR ANSWER HERE"
   ]
  },
  {
   "cell_type": "markdown",
   "metadata": {
    "deletable": false,
    "editable": false,
    "nbgrader": {
     "checksum": "12b30f79ce5e1faeba2044aecf953d17",
     "grade": false,
     "grade_id": "cell-a93ee44940ef1b55",
     "locked": true,
     "schema_version": 1,
     "solution": false
    }
   },
   "source": [
    "**d)** Implement the formula for the autocorrelation matrix\n",
    "\n",
    "$$ A = \\frac{1}{|D|} \\sum_{\\overrightarrow{x} \\in D} (\\frac{(\\overrightarrow{x} - \\overrightarrow{\\mu})}{\\overrightarrow{s}})^T \\frac{(\\overrightarrow{x}- \\overrightarrow{\\mu})}{\\overrightarrow{s}} $$\n",
    "\n",
    "Hint: For your implementation, it might be more efficient to divide by the matrix of standard deviations in the end. The matrix of standard deviations for two dimensions looks like this:\n",
    "\n",
    "| S | x | y |\n",
    "| ---|---|---|\n",
    "|   **x** |  $s_{x}$$s_{x}$| $s_{x}$$s_{y}$ |\n",
    "|   **y**| $s_{y}$$s_{x}$  |  $s_{y}$$s_{y}$ |\n",
    "\n",
    "\n",
    "Make sure to make your implementation work for more than two dimensional data as well!\n",
    "\n",
    "Then execute the cell below which shows the autocorrelation matrices for the datasets of task c."
   ]
  },
  {
   "cell_type": "code",
   "execution_count": null,
   "metadata": {
    "deletable": false,
    "nbgrader": {
     "checksum": "735e3647eea6c6a4f5d1436a8a64b403",
     "grade": true,
     "grade_id": "cell-00c56f79c4638bbdd",
     "locked": false,
     "points": 1,
     "schema_version": 1,
     "solution": true
    }
   },
   "outputs": [],
   "source": [
    "def autocorrelation(data):\n",
    "    \"\"\"\n",
    "    Input is an array of the form number_data * dimensions\n",
    "    An example is shown when this cell is executed\n",
    "    \"\"\"\n",
    "    # YOUR CODE HERE\n",
    "    \n",
    "## DELETE COMMENTS TO SHOW THE DATA USED FOR ASSERTION \n",
    "# example_x = [2,2,2]\n",
    "# example_y = [1,2,3]\n",
    "# example_data = np.stack([[1,2,3], [2,2,2]], axis=1)\n",
    "# plt.scatter(example_x, example_y)\n",
    "# plt.show()\n",
    "\n",
    "test_data1 = np.stack([[1,2,3], [2,2,2]], axis=1)\n",
    "cor1 = autocorrelation(test_data1)\n",
    "real_cor1 = [[1.0, 0.0], [0.0, 0.0]]\n",
    "\n",
    "test_data2 = np.stack([[1,2,3], [4,5,6]], axis=1)\n",
    "cor2 = autocorrelation(test_data2)\n",
    "real_cor2 = [[1,1], [1,1]]\n",
    "\n",
    "assert np.allclose(cor1, real_cor1), \"Wrong output: correlation should be \\n {} \\n for this data, is \\n {}\".format(real_cor1, cor1)\n",
    "assert np.allclose(cor2, real_cor2), \"Wrong output: correlation should be \\n {} \\n for this data, is \\n {}\".format(real_cor2, cor2)"
   ]
  },
  {
   "cell_type": "code",
   "execution_count": null,
   "metadata": {},
   "outputs": [],
   "source": [
    "# the data of task c is saved in a list called datasets\n",
    "for i, d in enumerate(datasets):\n",
    "    print(\"Autocorrelation matrix for data set\", names[i], \"\\n\", autocorrelation(d), \"\\n\")"
   ]
  },
  {
   "cell_type": "markdown",
   "metadata": {
    "deletable": false,
    "editable": false,
    "nbgrader": {
     "checksum": "ed87dd3d1cd07f2cc36f6ed09074fd42",
     "grade": false,
     "grade_id": "cell-6dc44b01aa2a6ebb",
     "locked": true,
     "schema_version": 1,
     "solution": false
    }
   },
   "source": [
    "**e)** What is the difference between the autocorrelation matrix and covariance matrix? When should it be used?"
   ]
  },
  {
   "cell_type": "markdown",
   "metadata": {
    "deletable": false,
    "nbgrader": {
     "checksum": "9263ae21970f31804327d1817392b5d4",
     "grade": true,
     "grade_id": "cell-77e57257880bd198",
     "locked": false,
     "points": 2,
     "schema_version": 1,
     "solution": true
    }
   },
   "source": [
    "YOUR ANSWER HERE"
   ]
  }
 ],
 "metadata": {
  "kernelspec": {
   "display_name": "Python 3",
   "language": "python",
   "name": "python3"
  },
  "language_info": {
   "codemirror_mode": {
    "name": "ipython",
    "version": 3
   },
   "file_extension": ".py",
   "mimetype": "text/x-python",
   "name": "python",
   "nbconvert_exporter": "python",
   "pygments_lexer": "ipython3",
   "version": "3.6.5"
  },
  "toc": {
   "base_numbering": 1,
   "nav_menu": {},
   "number_sections": true,
   "sideBar": true,
   "skip_h1_title": false,
   "title_cell": "Table of Contents",
   "title_sidebar": "Contents",
   "toc_cell": false,
   "toc_position": {},
   "toc_section_display": true,
   "toc_window_display": false
  },
  "varInspector": {
   "cols": {
    "lenName": 16,
    "lenType": 16,
    "lenVar": 40
   },
   "kernels_config": {
    "python": {
     "delete_cmd_postfix": "",
     "delete_cmd_prefix": "del ",
     "library": "var_list.py",
     "varRefreshCmd": "print(var_dic_list())"
    },
    "r": {
     "delete_cmd_postfix": ") ",
     "delete_cmd_prefix": "rm(",
     "library": "var_list.r",
     "varRefreshCmd": "cat(var_dic_list()) "
    }
   },
   "types_to_exclude": [
    "module",
    "function",
    "builtin_function_or_method",
    "instance",
    "_Feature"
   ],
   "window_display": false
  },
  "widgets": {
   "state": {},
   "version": "1.1.2"
  }
 },
 "nbformat": 4,
 "nbformat_minor": 1
}
